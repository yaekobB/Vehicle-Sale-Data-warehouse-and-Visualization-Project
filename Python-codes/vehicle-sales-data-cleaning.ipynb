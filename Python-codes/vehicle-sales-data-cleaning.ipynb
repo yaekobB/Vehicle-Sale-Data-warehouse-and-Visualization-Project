{
 "cells": [
  {
   "cell_type": "code",
   "execution_count": 1,
   "metadata": {
    "execution": {
     "iopub.execute_input": "2025-06-24T07:57:59.770716Z",
     "iopub.status.busy": "2025-06-24T07:57:59.770265Z",
     "iopub.status.idle": "2025-06-24T07:58:02.938366Z",
     "shell.execute_reply": "2025-06-24T07:58:02.937793Z",
     "shell.execute_reply.started": "2025-06-24T07:57:59.770692Z"
    },
    "trusted": true
   },
   "outputs": [
    {
     "data": {
      "text/html": [
       "<div>\n",
       "<style scoped>\n",
       "    .dataframe tbody tr th:only-of-type {\n",
       "        vertical-align: middle;\n",
       "    }\n",
       "\n",
       "    .dataframe tbody tr th {\n",
       "        vertical-align: top;\n",
       "    }\n",
       "\n",
       "    .dataframe thead th {\n",
       "        text-align: right;\n",
       "    }\n",
       "</style>\n",
       "<table border=\"1\" class=\"dataframe\">\n",
       "  <thead>\n",
       "    <tr style=\"text-align: right;\">\n",
       "      <th></th>\n",
       "      <th>year</th>\n",
       "      <th>make</th>\n",
       "      <th>model</th>\n",
       "      <th>trim</th>\n",
       "      <th>body</th>\n",
       "      <th>transmission</th>\n",
       "      <th>vin</th>\n",
       "      <th>state</th>\n",
       "      <th>condition</th>\n",
       "      <th>odometer</th>\n",
       "      <th>color</th>\n",
       "      <th>interior</th>\n",
       "      <th>seller</th>\n",
       "      <th>mmr</th>\n",
       "      <th>sellingprice</th>\n",
       "      <th>saledate</th>\n",
       "    </tr>\n",
       "  </thead>\n",
       "  <tbody>\n",
       "    <tr>\n",
       "      <th>0</th>\n",
       "      <td>2015</td>\n",
       "      <td>Kia</td>\n",
       "      <td>Sorento</td>\n",
       "      <td>LX</td>\n",
       "      <td>SUV</td>\n",
       "      <td>automatic</td>\n",
       "      <td>5xyktca69fg566472</td>\n",
       "      <td>ca</td>\n",
       "      <td>5.0</td>\n",
       "      <td>16639.0</td>\n",
       "      <td>white</td>\n",
       "      <td>black</td>\n",
       "      <td>kia motors america  inc</td>\n",
       "      <td>20500.0</td>\n",
       "      <td>21500.0</td>\n",
       "      <td>Tue Dec 16 2014 12:30:00 GMT-0800 (PST)</td>\n",
       "    </tr>\n",
       "    <tr>\n",
       "      <th>1</th>\n",
       "      <td>2015</td>\n",
       "      <td>Kia</td>\n",
       "      <td>Sorento</td>\n",
       "      <td>LX</td>\n",
       "      <td>SUV</td>\n",
       "      <td>automatic</td>\n",
       "      <td>5xyktca69fg561319</td>\n",
       "      <td>ca</td>\n",
       "      <td>5.0</td>\n",
       "      <td>9393.0</td>\n",
       "      <td>white</td>\n",
       "      <td>beige</td>\n",
       "      <td>kia motors america  inc</td>\n",
       "      <td>20800.0</td>\n",
       "      <td>21500.0</td>\n",
       "      <td>Tue Dec 16 2014 12:30:00 GMT-0800 (PST)</td>\n",
       "    </tr>\n",
       "    <tr>\n",
       "      <th>2</th>\n",
       "      <td>2014</td>\n",
       "      <td>BMW</td>\n",
       "      <td>3 Series</td>\n",
       "      <td>328i SULEV</td>\n",
       "      <td>Sedan</td>\n",
       "      <td>automatic</td>\n",
       "      <td>wba3c1c51ek116351</td>\n",
       "      <td>ca</td>\n",
       "      <td>45.0</td>\n",
       "      <td>1331.0</td>\n",
       "      <td>gray</td>\n",
       "      <td>black</td>\n",
       "      <td>financial services remarketing (lease)</td>\n",
       "      <td>31900.0</td>\n",
       "      <td>30000.0</td>\n",
       "      <td>Thu Jan 15 2015 04:30:00 GMT-0800 (PST)</td>\n",
       "    </tr>\n",
       "    <tr>\n",
       "      <th>3</th>\n",
       "      <td>2015</td>\n",
       "      <td>Volvo</td>\n",
       "      <td>S60</td>\n",
       "      <td>T5</td>\n",
       "      <td>Sedan</td>\n",
       "      <td>automatic</td>\n",
       "      <td>yv1612tb4f1310987</td>\n",
       "      <td>ca</td>\n",
       "      <td>41.0</td>\n",
       "      <td>14282.0</td>\n",
       "      <td>white</td>\n",
       "      <td>black</td>\n",
       "      <td>volvo na rep/world omni</td>\n",
       "      <td>27500.0</td>\n",
       "      <td>27750.0</td>\n",
       "      <td>Thu Jan 29 2015 04:30:00 GMT-0800 (PST)</td>\n",
       "    </tr>\n",
       "    <tr>\n",
       "      <th>4</th>\n",
       "      <td>2014</td>\n",
       "      <td>BMW</td>\n",
       "      <td>6 Series Gran Coupe</td>\n",
       "      <td>650i</td>\n",
       "      <td>Sedan</td>\n",
       "      <td>automatic</td>\n",
       "      <td>wba6b2c57ed129731</td>\n",
       "      <td>ca</td>\n",
       "      <td>43.0</td>\n",
       "      <td>2641.0</td>\n",
       "      <td>gray</td>\n",
       "      <td>black</td>\n",
       "      <td>financial services remarketing (lease)</td>\n",
       "      <td>66000.0</td>\n",
       "      <td>67000.0</td>\n",
       "      <td>Thu Dec 18 2014 12:30:00 GMT-0800 (PST)</td>\n",
       "    </tr>\n",
       "  </tbody>\n",
       "</table>\n",
       "</div>"
      ],
      "text/plain": [
       "   year   make                model        trim   body transmission  \\\n",
       "0  2015    Kia              Sorento          LX    SUV    automatic   \n",
       "1  2015    Kia              Sorento          LX    SUV    automatic   \n",
       "2  2014    BMW             3 Series  328i SULEV  Sedan    automatic   \n",
       "3  2015  Volvo                  S60          T5  Sedan    automatic   \n",
       "4  2014    BMW  6 Series Gran Coupe        650i  Sedan    automatic   \n",
       "\n",
       "                 vin state  condition  odometer  color interior  \\\n",
       "0  5xyktca69fg566472    ca        5.0   16639.0  white    black   \n",
       "1  5xyktca69fg561319    ca        5.0    9393.0  white    beige   \n",
       "2  wba3c1c51ek116351    ca       45.0    1331.0   gray    black   \n",
       "3  yv1612tb4f1310987    ca       41.0   14282.0  white    black   \n",
       "4  wba6b2c57ed129731    ca       43.0    2641.0   gray    black   \n",
       "\n",
       "                                   seller      mmr  sellingprice  \\\n",
       "0                 kia motors america  inc  20500.0       21500.0   \n",
       "1                 kia motors america  inc  20800.0       21500.0   \n",
       "2  financial services remarketing (lease)  31900.0       30000.0   \n",
       "3                 volvo na rep/world omni  27500.0       27750.0   \n",
       "4  financial services remarketing (lease)  66000.0       67000.0   \n",
       "\n",
       "                                  saledate  \n",
       "0  Tue Dec 16 2014 12:30:00 GMT-0800 (PST)  \n",
       "1  Tue Dec 16 2014 12:30:00 GMT-0800 (PST)  \n",
       "2  Thu Jan 15 2015 04:30:00 GMT-0800 (PST)  \n",
       "3  Thu Jan 29 2015 04:30:00 GMT-0800 (PST)  \n",
       "4  Thu Dec 18 2014 12:30:00 GMT-0800 (PST)  "
      ]
     },
     "execution_count": 1,
     "metadata": {},
     "output_type": "execute_result"
    }
   ],
   "source": [
    "import pandas as pd\n",
    "vehicle = \"/kaggle/input/vehicle-sales-data/car_prices.csv\"\n",
    "vehicleSale = pd.read_csv(vehicle)\n",
    "\n",
    "vehicleSale.head()"
   ]
  },
  {
   "cell_type": "code",
   "execution_count": 2,
   "metadata": {
    "execution": {
     "iopub.execute_input": "2025-06-24T07:58:02.939778Z",
     "iopub.status.busy": "2025-06-24T07:58:02.939569Z",
     "iopub.status.idle": "2025-06-24T07:58:02.943744Z",
     "shell.execute_reply": "2025-06-24T07:58:02.942949Z",
     "shell.execute_reply.started": "2025-06-24T07:58:02.939762Z"
    },
    "trusted": true
   },
   "outputs": [
    {
     "name": "stdout",
     "output_type": "stream",
     "text": [
      "Shape of the dataset (558837, 16)\n"
     ]
    }
   ],
   "source": [
    "print(\"Shape of the dataset\", vehicleSale.shape)"
   ]
  },
  {
   "cell_type": "markdown",
   "metadata": {},
   "source": [
    "# Check the Manufactured Year and its distribution"
   ]
  },
  {
   "cell_type": "code",
   "execution_count": 3,
   "metadata": {
    "execution": {
     "iopub.execute_input": "2025-06-24T07:58:02.944728Z",
     "iopub.status.busy": "2025-06-24T07:58:02.944485Z",
     "iopub.status.idle": "2025-06-24T07:58:03.649018Z",
     "shell.execute_reply": "2025-06-24T07:58:03.648186Z",
     "shell.execute_reply.started": "2025-06-24T07:58:02.944712Z"
    },
    "trusted": true
   },
   "outputs": [
    {
     "name": "stdout",
     "output_type": "stream",
     "text": [
      "Loaded CSV with 558837 rows\n",
      "Year range: 1982 to 2015\n",
      "Total vehicles from 1982–1999: 9533\n",
      "Total vehicles from 1982–2015: 558837\n",
      "Percentage of 1982–1999 vehicles: 1.71%\n"
     ]
    },
    {
     "data": {
      "image/png": "[encoded data removed]",
      "text/plain": [
       "<Figure size 1200x600 with 1 Axes>"
      ]
     },
     "metadata": {},
     "output_type": "display_data"
    }
   ],
   "source": [
    "import pandas as pd\n",
    "import matplotlib.pyplot as plt\n",
    "\n",
    "# Step 1: Load the CSV\n",
    "# vehicleSale = pd.read_csv('car_sales_data.csv')\n",
    "print(f\"Loaded CSV with {len(vehicleSale)} rows\")\n",
    "\n",
    "# Step 2: Validate the 'year' column\n",
    "if 'year' not in vehicleSale.columns:\n",
    "    print(\"Error: 'year' column not found\")\n",
    "    exit()\n",
    "if vehicleSale['year'].isnull().any():\n",
    "    print(f\"Warning: {vehicleSale['year'].isnull().sum()} missing values in 'year'\")\n",
    "    vehicleSale = vehicleSale.dropna(subset=['year'])  # Drop rows with missing year\n",
    "vehicleSale['year'] = vehicleSale['year'].astype(int)  # Ensure integer type\n",
    "print(f\"Year range: {vehicleSale['year'].min()} to {vehicleSale['year'].max()}\")\n",
    "\n",
    "# Step 3: Calculate year distribution\n",
    "year_counts = vehicleSale['year'].value_counts().sort_index()\n",
    "# print(\"\\nYear distribution:\")\n",
    "# print(year_counts)\n",
    "\n",
    "#Check the contribution of vehicles from 1982 -1999\n",
    "vehicles_82s = year_counts.loc[1982:1999].sum()\n",
    "vehicles_total = len(vehicleSale)  # or use year_counts.loc[1982:2015].sum()\n",
    "\n",
    "percentage_82s = (vehicles_82s / vehicles_total) * 100\n",
    "\n",
    "print(f\"Total vehicles from 1982–1999: {vehicles_82s}\")\n",
    "print(f\"Total vehicles from 1982–2015: {vehicles_total}\")\n",
    "print(f\"Percentage of 1982–1999 vehicles: {percentage_82s:.2f}%\")\n",
    "\n",
    "\n",
    "# Step 4: Create bar chart with value labels\n",
    "plt.figure(figsize=(12, 6))\n",
    "bars = plt.bar(year_counts.index, year_counts.values, color='skyblue', edgecolor='black')\n",
    "plt.title('Distribution of Manufacturing Year (1982 - 2015)')\n",
    "plt.xlabel('Year')\n",
    "plt.ylabel('Number of Vehicles')\n",
    "plt.xticks(ticks=year_counts.index, rotation=45, ha='right')\n",
    "plt.grid(True, axis='y', linestyle='--', alpha=0.7)\n",
    "\n",
    "# Add value labels on top of each bar\n",
    "for bar in bars:\n",
    "    height = bar.get_height()\n",
    "    plt.text(\n",
    "        bar.get_x() + bar.get_width() / 2,  # Center of bar\n",
    "        height,  # Top of bar\n",
    "        f'{int(height)}',  # Count as integer\n",
    "        ha='center', va='bottom', fontsize=10\n",
    "    )\n",
    "\n",
    "# Step 5: Save and show plot\n",
    "plt.tight_layout()\n",
    "plt.savefig('year_distribution.png')\n",
    "# print(\"\\nBar chart saved as 'year_distribution.png'\")\n",
    "plt.show()"
   ]
  },
  {
   "cell_type": "markdown",
   "metadata": {},
   "source": [
    "# check columns with null value"
   ]
  },
  {
   "cell_type": "code",
   "execution_count": 4,
   "metadata": {
    "execution": {
     "iopub.execute_input": "2025-06-24T07:58:03.650252Z",
     "iopub.status.busy": "2025-06-24T07:58:03.649976Z",
     "iopub.status.idle": "2025-06-24T07:58:03.922265Z",
     "shell.execute_reply": "2025-06-24T07:58:03.921453Z",
     "shell.execute_reply.started": "2025-06-24T07:58:03.650232Z"
    },
    "trusted": true
   },
   "outputs": [
    {
     "data": {
      "text/plain": [
       "year                0\n",
       "make            10301\n",
       "model           10399\n",
       "trim            10651\n",
       "body            13195\n",
       "transmission    65352\n",
       "vin                 4\n",
       "state               0\n",
       "condition       11820\n",
       "odometer           94\n",
       "color             749\n",
       "interior          749\n",
       "seller              0\n",
       "mmr                38\n",
       "sellingprice       12\n",
       "saledate           12\n",
       "dtype: int64"
      ]
     },
     "execution_count": 4,
     "metadata": {},
     "output_type": "execute_result"
    }
   ],
   "source": [
    "vehicleSale.isnull().sum()"
   ]
  },
  {
   "cell_type": "markdown",
   "metadata": {},
   "source": [
    "# Remove row data with empty column"
   ]
  },
  {
   "cell_type": "code",
   "execution_count": 5,
   "metadata": {
    "execution": {
     "iopub.execute_input": "2025-06-24T07:58:03.924472Z",
     "iopub.status.busy": "2025-06-24T07:58:03.924251Z",
     "iopub.status.idle": "2025-06-24T07:58:04.548045Z",
     "shell.execute_reply": "2025-06-24T07:58:04.547427Z",
     "shell.execute_reply.started": "2025-06-24T07:58:03.924456Z"
    },
    "trusted": true
   },
   "outputs": [
    {
     "data": {
      "text/plain": [
       "year                0\n",
       "make                0\n",
       "model               0\n",
       "trim                0\n",
       "body                0\n",
       "transmission    61323\n",
       "vin                 0\n",
       "state               0\n",
       "condition           0\n",
       "odometer            0\n",
       "color               0\n",
       "interior            0\n",
       "seller              0\n",
       "mmr                 0\n",
       "sellingprice        0\n",
       "saledate            0\n",
       "dtype: int64"
      ]
     },
     "execution_count": 5,
     "metadata": {},
     "output_type": "execute_result"
    }
   ],
   "source": [
    "#Drop rows that contains empty  columns\n",
    "vehicleSale = vehicleSale.dropna(subset =['make', 'model','trim','body','vin',\"condition\", 'color', 'interior','sellingprice', 'odometer', 'saledate', 'mmr'])\n",
    "vehicleSale.isnull().sum()"
   ]
  },
  {
   "cell_type": "code",
   "execution_count": 6,
   "metadata": {
    "execution": {
     "iopub.execute_input": "2025-06-24T07:58:04.549025Z",
     "iopub.status.busy": "2025-06-24T07:58:04.548748Z",
     "iopub.status.idle": "2025-06-24T07:58:04.553705Z",
     "shell.execute_reply": "2025-06-24T07:58:04.553129Z",
     "shell.execute_reply.started": "2025-06-24T07:58:04.549000Z"
    },
    "trusted": true
   },
   "outputs": [
    {
     "data": {
      "text/plain": [
       "(533648, 16)"
      ]
     },
     "execution_count": 6,
     "metadata": {},
     "output_type": "execute_result"
    }
   ],
   "source": [
    "vehicleSale.shape"
   ]
  },
  {
   "cell_type": "markdown",
   "metadata": {},
   "source": [
    "# Fill the null value of transmission column with Unknown"
   ]
  },
  {
   "cell_type": "code",
   "execution_count": 7,
   "metadata": {
    "execution": {
     "iopub.execute_input": "2025-06-24T07:58:04.554597Z",
     "iopub.status.busy": "2025-06-24T07:58:04.554337Z",
     "iopub.status.idle": "2025-06-24T07:58:04.599845Z",
     "shell.execute_reply": "2025-06-24T07:58:04.599278Z",
     "shell.execute_reply.started": "2025-06-24T07:58:04.554574Z"
    },
    "trusted": true
   },
   "outputs": [
    {
     "data": {
      "text/plain": [
       "(533648, 16)"
      ]
     },
     "execution_count": 7,
     "metadata": {},
     "output_type": "execute_result"
    }
   ],
   "source": [
    "vehicleSale['transmission'] = vehicleSale['transmission'].fillna('Unknown')\n",
    "vehicleSale.shape"
   ]
  },
  {
   "cell_type": "markdown",
   "metadata": {},
   "source": [
    "#  Manufacturing Year distribution of the Vehicles after droping null values"
   ]
  },
  {
   "cell_type": "code",
   "execution_count": 8,
   "metadata": {
    "execution": {
     "iopub.execute_input": "2025-06-24T07:58:04.600819Z",
     "iopub.status.busy": "2025-06-24T07:58:04.600571Z",
     "iopub.status.idle": "2025-06-24T07:58:05.164311Z",
     "shell.execute_reply": "2025-06-24T07:58:05.163633Z",
     "shell.execute_reply.started": "2025-06-24T07:58:04.600802Z"
    },
    "trusted": true
   },
   "outputs": [
    {
     "name": "stdout",
     "output_type": "stream",
     "text": [
      "Loaded CSV with 533648 rows\n",
      "Year range: 1990 to 2015\n",
      "Total vehicles from 1982–1999: 7411\n",
      "Total vehicles from 1982–2015: 533648\n",
      "Percentage of 1982–1999 vehicles: 1.39%\n"
     ]
    },
    {
     "data": {
      "image/png": "[encoded data removed]",
      "text/plain": [
       "<Figure size 1200x600 with 1 Axes>"
      ]
     },
     "metadata": {},
     "output_type": "display_data"
    }
   ],
   "source": [
    "import pandas as pd\n",
    "import matplotlib.pyplot as plt\n",
    "\n",
    "# Step 1: Load the CSV\n",
    "# vehicleSale = pd.read_csv('car_sales_data.csv')\n",
    "print(f\"Loaded CSV with {len(vehicleSale)} rows\")\n",
    "\n",
    "# Step 2: Validate the 'year' column\n",
    "if 'year' not in vehicleSale.columns:\n",
    "    print(\"Error: 'year' column not found\")\n",
    "    exit()\n",
    "if vehicleSale['year'].isnull().any():\n",
    "    print(f\"Warning: {vehicleSale['year'].isnull().sum()} missing values in 'year'\")\n",
    "    vehicleSale = vehicleSale.dropna(subset=['year'])  # Drop rows with missing year\n",
    "vehicleSale['year'] = vehicleSale['year'].astype(int)  # Ensure integer type\n",
    "print(f\"Year range: {vehicleSale['year'].min()} to {vehicleSale['year'].max()}\")\n",
    "\n",
    "# Step 3: Calculate year distribution\n",
    "year_counts = vehicleSale['year'].value_counts().sort_index()\n",
    "# print(\"\\nYear distribution:\")\n",
    "# print(year_counts)\n",
    "\n",
    "#Check the contribution of vehicles from 1982 -1999\n",
    "vehicles_82s = year_counts.loc[1982:1999].sum()\n",
    "vehicles_total = len(vehicleSale)  # or use year_counts.loc[1982:2015].sum()\n",
    "\n",
    "percentage_82s = (vehicles_82s / vehicles_total) * 100\n",
    "\n",
    "print(f\"Total vehicles from 1982–1999: {vehicles_82s}\")\n",
    "print(f\"Total vehicles from 1982–2015: {vehicles_total}\")\n",
    "print(f\"Percentage of 1982–1999 vehicles: {percentage_82s:.2f}%\")\n",
    "\n",
    "\n",
    "# Step 4: Create bar chart with value labels\n",
    "plt.figure(figsize=(12, 6))\n",
    "bars = plt.bar(year_counts.index, year_counts.values, color='skyblue', edgecolor='black')\n",
    "plt.title('Distribution of Manufacturing Year (1982 - 2015)')\n",
    "plt.xlabel('Year')\n",
    "plt.ylabel('Number of Vehicles')\n",
    "plt.xticks(ticks=year_counts.index, rotation=45, ha='right')\n",
    "plt.grid(True, axis='y', linestyle='--', alpha=0.7)\n",
    "\n",
    "# Add value labels on top of each bar\n",
    "for bar in bars:\n",
    "    height = bar.get_height()\n",
    "    plt.text(\n",
    "        bar.get_x() + bar.get_width() / 2,  # Center of bar\n",
    "        height,  # Top of bar\n",
    "        f'{int(height)}',  # Count as integer\n",
    "        ha='center', va='bottom', fontsize=10\n",
    "    )\n",
    "\n",
    "# Step 5: Save and show plot\n",
    "plt.tight_layout()\n",
    "plt.savefig('year_distribution.png')\n",
    "# print(\"\\nBar chart saved as 'year_distribution.png'\")\n",
    "plt.show()"
   ]
  },
  {
   "cell_type": "markdown",
   "metadata": {},
   "source": [
    "# Take Year from 2000 - 2015"
   ]
  },
  {
   "cell_type": "code",
   "execution_count": 9,
   "metadata": {
    "execution": {
     "iopub.execute_input": "2025-06-24T07:58:05.165344Z",
     "iopub.status.busy": "2025-06-24T07:58:05.165058Z",
     "iopub.status.idle": "2025-06-24T07:58:05.266042Z",
     "shell.execute_reply": "2025-06-24T07:58:05.265271Z",
     "shell.execute_reply.started": "2025-06-24T07:58:05.165327Z"
    },
    "trusted": true
   },
   "outputs": [
    {
     "data": {
      "text/plain": [
       "array([2015, 2014, 2013, 2012, 2011, 2010, 2009, 2008, 2007, 2006, 2005,\n",
       "       2004, 2003, 2002, 2001, 2000])"
      ]
     },
     "execution_count": 9,
     "metadata": {},
     "output_type": "execute_result"
    }
   ],
   "source": [
    "vehicleSale = vehicleSale[vehicleSale['year'].between(2000, 2015)]\n",
    "vehicleSale['year'].unique()"
   ]
  },
  {
   "cell_type": "code",
   "execution_count": 10,
   "metadata": {
    "execution": {
     "iopub.execute_input": "2025-06-24T07:58:05.267121Z",
     "iopub.status.busy": "2025-06-24T07:58:05.266852Z",
     "iopub.status.idle": "2025-06-24T07:58:05.921675Z",
     "shell.execute_reply": "2025-06-24T07:58:05.920930Z",
     "shell.execute_reply.started": "2025-06-24T07:58:05.267099Z"
    },
    "trusted": true
   },
   "outputs": [
    {
     "name": "stdout",
     "output_type": "stream",
     "text": [
      "Loaded CSV with 526237 rows\n",
      "\n",
      "Filtered data (2000–2015): 526237 rows\n",
      "Year range: 2000 to 2015\n"
     ]
    },
    {
     "data": {
      "image/png": "[encoded data removed]",
      "text/plain": [
       "<Figure size 1200x600 with 1 Axes>"
      ]
     },
     "metadata": {},
     "output_type": "display_data"
    }
   ],
   "source": [
    "import pandas as pd\n",
    "import matplotlib.pyplot as plt\n",
    "\n",
    "# Step 1: Load the CSV\n",
    "# vehicleSale = pd.read_csv('car_sales_data.csv')\n",
    "print(f\"Loaded CSV with {len(vehicleSale)} rows\")\n",
    "\n",
    "# Step 2: Validate and filter the 'year' column\n",
    "if 'year' not in vehicleSale.columns:\n",
    "    print(\"Error: 'year' column not found\")\n",
    "    exit()\n",
    "if vehicleSale['year'].isnull().any():\n",
    "    print(f\"Warning: {vehicleSale['year'].isnull().sum()} missing values in 'year'\")\n",
    "    vehicleSale = vehicleSale.dropna(subset=['year'])\n",
    "vehicleSale['year'] = vehicleSale['year'].astype(int)\n",
    "\n",
    "# Filter for 2000–2015 (change to 2005 for alternative)\n",
    "\n",
    "start_year = 2000  # Change to 2005 for alternative\n",
    "end_year = 2015\n",
    "vehicleSale_filtered = vehicleSale[(vehicleSale['year'] >= start_year) & (vehicleSale['year'] <= end_year)]\n",
    "print(f\"\\nFiltered data ({start_year}–{end_year}): {len(vehicleSale_filtered)} rows\")\n",
    "print(f\"Year range: {vehicleSale_filtered['year'].min()} to {vehicleSale_filtered['year'].max()}\")\n",
    "\n",
    "# Step 3: Calculate year distribution\n",
    "year_counts = vehicleSale_filtered['year'].value_counts().sort_index()\n",
    "# print(\"\\nYear distribution:\")\n",
    "# print(year_counts)\n",
    "\n",
    "# Step 4: Create bar chart with value labels\n",
    "plt.figure(figsize=(12, 6))\n",
    "bars = plt.bar(year_counts.index, year_counts.values, color='skyblue', edgecolor='black')\n",
    "plt.title(f'Distribution of Manufacturing Year ({start_year}–{end_year})')\n",
    "plt.xlabel('Year')\n",
    "plt.ylabel('Number of Vehicles')\n",
    "plt.xticks(ticks = year_counts.index, rotation=45, ha='right')\n",
    "plt.grid(True, axis='y', linestyle='--', alpha=0.7)\n",
    "\n",
    "# Add value labels on top of each bar\n",
    "for bar in bars:\n",
    "    height = bar.get_height()\n",
    "    plt.text(\n",
    "        bar.get_x() + bar.get_width() / 2,\n",
    "        height,\n",
    "        f'{int(height)}',\n",
    "        ha='center', va='bottom', fontsize=10\n",
    "    )\n",
    "\n",
    "# Step 5: Save and show plot\n",
    "plt.tight_layout()\n",
    "plt.savefig(f'year_distribution_{start_year}_{end_year}.png')\n",
    "# print(f\"\\nBar chart saved as 'year_distribution_{start_year}_{end_year}.png'\")\n",
    "plt.show()"
   ]
  },
  {
   "cell_type": "code",
   "execution_count": 11,
   "metadata": {
    "execution": {
     "iopub.execute_input": "2025-06-24T07:58:05.922813Z",
     "iopub.status.busy": "2025-06-24T07:58:05.922559Z",
     "iopub.status.idle": "2025-06-24T07:58:05.927938Z",
     "shell.execute_reply": "2025-06-24T07:58:05.927220Z",
     "shell.execute_reply.started": "2025-06-24T07:58:05.922792Z"
    },
    "trusted": true
   },
   "outputs": [
    {
     "data": {
      "text/plain": [
       "(526237, 16)"
      ]
     },
     "execution_count": 11,
     "metadata": {},
     "output_type": "execute_result"
    }
   ],
   "source": [
    "vehicleSale.shape"
   ]
  },
  {
   "cell_type": "markdown",
   "metadata": {},
   "source": [
    "# **Check VIN Length Consistency**"
   ]
  },
  {
   "cell_type": "code",
   "execution_count": 12,
   "metadata": {
    "execution": {
     "iopub.execute_input": "2025-06-24T07:58:05.928957Z",
     "iopub.status.busy": "2025-06-24T07:58:05.928699Z",
     "iopub.status.idle": "2025-06-24T07:58:06.324239Z",
     "shell.execute_reply": "2025-06-24T07:58:06.323430Z",
     "shell.execute_reply.started": "2025-06-24T07:58:05.928937Z"
    },
    "trusted": true
   },
   "outputs": [
    {
     "name": "stdout",
     "output_type": "stream",
     "text": [
      "Remaining rows after dropping invalid VINs: 526237\n"
     ]
    }
   ],
   "source": [
    "# Keep only rows where VIN is exactly 17 characters\n",
    "vehicleSale = vehicleSale[vehicleSale['vin'].astype(str).str.len() == 17]\n",
    "\n",
    "print(f\"Remaining rows after dropping invalid VINs: {len(vehicleSale)}\")\n"
   ]
  },
  {
   "cell_type": "markdown",
   "metadata": {},
   "source": [
    "# **Standardization of string value columns**"
   ]
  },
  {
   "cell_type": "code",
   "execution_count": 13,
   "metadata": {
    "execution": {
     "iopub.execute_input": "2025-06-24T07:58:06.325356Z",
     "iopub.status.busy": "2025-06-24T07:58:06.325110Z",
     "iopub.status.idle": "2025-06-24T07:58:08.229144Z",
     "shell.execute_reply": "2025-06-24T07:58:08.228549Z",
     "shell.execute_reply.started": "2025-06-24T07:58:06.325331Z"
    },
    "trusted": true
   },
   "outputs": [
    {
     "name": "stdout",
     "output_type": "stream",
     "text": [
      "Standardized make\n",
      "Standardized model\n",
      "Standardized trim\n",
      "Standardized body\n",
      "Standardized transmission\n",
      "Standardized color\n",
      "Standardized interior\n",
      "Standardized seller\n"
     ]
    }
   ],
   "source": [
    "import pandas as pd\n",
    "\n",
    "# Standardize string columns\n",
    "string_cols = ['make', 'model', 'trim', 'body', 'transmission', 'color', 'interior', 'seller']\n",
    "for col in string_cols:\n",
    "    vehicleSale[col] = vehicleSale[col].str.title().str.strip()\n",
    "    print(f\"Standardized {col}\")\n",
    "\n",
    "# Handle vin and state separately\n",
    "vehicleSale['vin'] = vehicleSale['vin'].str.strip()\n",
    "vehicleSale['state'] = vehicleSale['state'].str.upper().str.strip()\n",
    "\n",
    "# Save cleaned CSV\n",
    "#vehicleSale.to_csv('car_sales_cleaned.csv', index=False)"
   ]
  },
  {
   "cell_type": "markdown",
   "metadata": {},
   "source": [
    "# Check duplicated VIN\n",
    "\n",
    "1. **Remove Unintended Sale Duplicates**\n",
    "* Objective: Eliminate duplicate sale records (same vin, saledate, seller) that represent data errors.\n",
    "2. **Validate Multi-Sales**\n",
    "* Objective: Confirm valid cases where vehicles (same vin) are sold multiple times (different saledate or seller).\n",
    "3. **Resolve Vehicle Attribute Duplicates**\n",
    "* Objective: Ensure consistent vehicle attributes (make, model, trim, body, year, transmission, color, interior) for each vin for reconciled.vehicle."
   ]
  },
  {
   "cell_type": "code",
   "execution_count": 14,
   "metadata": {
    "execution": {
     "iopub.execute_input": "2025-06-24T07:58:08.268707Z",
     "iopub.status.busy": "2025-06-24T07:58:08.232366Z",
     "iopub.status.idle": "2025-06-24T07:58:10.644706Z",
     "shell.execute_reply": "2025-06-24T07:58:10.643941Z",
     "shell.execute_reply.started": "2025-06-24T07:58:08.268684Z"
    },
    "trusted": true
   },
   "outputs": [
    {
     "name": "stdout",
     "output_type": "stream",
     "text": [
      "\n",
      "Found 96 unintended sale duplicates (same vin, saledate, seller):\n",
      "                      vin                                 saledate  \\\n",
      "42482   19xfb2f97ce313922  Tue Feb 03 2015 01:30:00 GMT-0800 (PST)   \n",
      "242292  19xfb2f97ce313922  Tue Feb 03 2015 01:30:00 GMT-0800 (PST)   \n",
      "17667   1b3hb48bx7d113596  Thu Jan 22 2015 04:30:00 GMT-0800 (PST)   \n",
      "185650  1b3hb48bx7d113596  Thu Jan 22 2015 04:30:00 GMT-0800 (PST)   \n",
      "372837  1b4hr28y7yf116252  Tue Mar 03 2015 02:00:00 GMT-0800 (PST)   \n",
      "379249  1b4hr28y7yf116252  Tue Mar 03 2015 02:00:00 GMT-0800 (PST)   \n",
      "59819   1b7gg22n01s348630  Thu Jan 22 2015 03:00:00 GMT-0800 (PST)   \n",
      "187304  1b7gg22n01s348630  Thu Jan 22 2015 03:00:00 GMT-0800 (PST)   \n",
      "483983  1d4se4gt5bc746627  Wed Jul 08 2015 07:20:00 GMT-0700 (PDT)   \n",
      "546091  1d4se4gt5bc746627  Wed Jul 08 2015 07:20:00 GMT-0700 (PDT)   \n",
      "\n",
      "                                                 seller  sellingprice  \n",
      "42482                       Auto Equity Loans Of De Llc        3900.0  \n",
      "242292                      Auto Equity Loans Of De Llc       11600.0  \n",
      "17667   Charitable Adult Rides Services/Car Donating Is        2300.0  \n",
      "185650  Charitable Adult Rides Services/Car Donating Is         900.0  \n",
      "372837                         Titlemax Of Nashville #3         350.0  \n",
      "379249                         Titlemax Of Nashville #3         725.0  \n",
      "59819                                      Veros Credit         400.0  \n",
      "187304                                     Veros Credit        2200.0  \n",
      "483983                          Music City Autoplex Llc       17500.0  \n",
      "546091                          Music City Autoplex Llc       19000.0  \n",
      "Removed unintended duplicates. Remaining rows: 526189\n",
      "\n",
      "Found 7736 VINs with multiple sales (valid):\n",
      "vin\n",
      "wbanv13588cz57827    5\n",
      "5uxfe43579l274932    4\n",
      "trusc28n241022003    4\n",
      "1ftfw1cv5afb30053    4\n",
      "5n1ar1nn2bc632869    4\n",
      "wddgf56x78f009940    4\n",
      "1g1pa5sh7d7298502    3\n",
      "1c4pjlak9cw151871    3\n",
      "1gc1kxcg8cf218074    3\n",
      "2t2hk31u67c016215    3\n",
      "Name: count, dtype: int64\n",
      "\n",
      "Sample multi-sale details:\n",
      "                      vin                                 saledate  \\\n",
      "339253  5uxfe43579l274932  Fri Feb 27 2015 04:00:00 GMT-0800 (PST)   \n",
      "2924    5uxfe43579l274932  Wed Dec 17 2014 12:15:00 GMT-0800 (PST)   \n",
      "274884  5uxfe43579l274932  Wed Feb 11 2015 03:30:00 GMT-0800 (PST)   \n",
      "153982  5uxfe43579l274932  Wed Jan 21 2015 03:30:00 GMT-0800 (PST)   \n",
      "252016  wbanv13588cz57827  Fri Feb 06 2015 01:00:00 GMT-0800 (PST)   \n",
      "311639  wbanv13588cz57827  Fri Feb 13 2015 01:00:00 GMT-0800 (PST)   \n",
      "347471  wbanv13588cz57827  Fri Feb 20 2015 09:00:00 GMT-0800 (PST)   \n",
      "378010  wbanv13588cz57827  Fri Feb 27 2015 01:00:00 GMT-0800 (PST)   \n",
      "154290  wbanv13588cz57827  Fri Jan 16 2015 01:00:00 GMT-0800 (PST)   \n",
      "\n",
      "                                seller  sellingprice  \n",
      "339253              Kapitolia Auto Llc       16500.0  \n",
      "2924           High Bid Trading Co Inc       16500.0  \n",
      "274884  Remarketing By Ge/Manheim Utah       15000.0  \n",
      "153982            Meridian Remarketing       16800.0  \n",
      "252016    R Hollenshead Auto Sales Inc        7500.0  \n",
      "311639    R Hollenshead Auto Sales Inc        7600.0  \n",
      "347471    R Hollenshead Auto Sales Inc        8000.0  \n",
      "378010    R Hollenshead Auto Sales Inc        8500.0  \n",
      "154290    R Hollenshead Auto Sales Inc        8000.0  \n",
      "\n",
      "Found 15647 rows with potential vehicle attribute duplicates (same vin, different attributes):\n",
      "                      vin   make model  trim   body  year transmission  \\\n",
      "218119  19uua5663ya022038  Acura    Tl   3.2  Sedan  2000    Automatic   \n",
      "49021   19uua5663ya022038  Acura    Tl   3.2  Sedan  2000    Automatic   \n",
      "160618  19uua65596a059705  Acura    Tl  Base  Sedan  2006       Manual   \n",
      "344335  19uua65596a059705  Acura    Tl  Base  Sedan  2006       Manual   \n",
      "136582  19uua66215a070166  Acura    Tl   3.2  Sedan  2005    Automatic   \n",
      "186392  19uua66215a070166  Acura    Tl   3.2  Sedan  2005    Automatic   \n",
      "359942  19uua66228a015410  Acura    Tl  Base  Sedan  2008    Automatic   \n",
      "145090  19uua66228a015410  Acura    Tl  Base  Sedan  2008    Automatic   \n",
      "350072  19uua66228a024043  Acura    Tl  Base  Sedan  2008      Unknown   \n",
      "386571  19uua66228a024043  Acura    Tl  Base  Sedan  2008      Unknown   \n",
      "\n",
      "         color interior  \n",
      "218119    Gold      Tan  \n",
      "49021     Gold    Beige  \n",
      "160618   White    Brown  \n",
      "344335   White    Black  \n",
      "136582  Silver     Gray  \n",
      "186392  Silver     Gray  \n",
      "359942    Gray    Black  \n",
      "145090    Gray    Black  \n",
      "350072   White      Tan  \n",
      "386571   White    Beige  \n",
      "Unique vehicle records: 518278\n",
      "Resolved vehicle duplicates. Remaining rows: 526189\n",
      "Final rows: 526189, Unique VINs: 518278\n"
     ]
    }
   ],
   "source": [
    "import pandas as pd\n",
    "\n",
    "# Step 1: Check for unintended sale duplicates (same vin, saledate, seller)\n",
    "sale_duplicates = vehicleSale.duplicated(subset=['vin', 'saledate', 'seller'], keep=False)\n",
    "if sale_duplicates.sum() > 0:\n",
    "    print(f\"\\nFound {sale_duplicates.sum()} unintended sale duplicates (same vin, saledate, seller):\")\n",
    "    print(vehicleSale[sale_duplicates][['vin', 'saledate', 'seller', 'sellingprice']].sort_values(['vin', 'saledate']).head(10))\n",
    "   \n",
    "    # Remove duplicates, keep first occurrence\n",
    "    vehicleSale = vehicleSale.drop_duplicates(subset=['vin', 'saledate', 'seller'], keep='first')\n",
    "    print(f\"Removed unintended duplicates. Remaining rows: {len(vehicleSale)}\")\n",
    "else:\n",
    "    print(\"\\nNo unintended sale duplicates found (same vin, saledate, seller).\")\n",
    "\n",
    "# Step 2: Check for valid multi-sales (same vin, different saledate or seller)\n",
    "\n",
    "vin_counts = vehicleSale['vin'].value_counts()\n",
    "multi_sales = vin_counts[vin_counts > 1]\n",
    "if not multi_sales.empty:\n",
    "    print(f\"\\nFound {len(multi_sales)} VINs with multiple sales (valid):\")\n",
    "    print(multi_sales.head(10))\n",
    "   \n",
    "    # Example of multi-sales\n",
    "    multi_sale_vins = multi_sales.index[:2]\n",
    "    print(\"\\nSample multi-sale details:\")\n",
    "    print(vehicleSale[vehicleSale['vin'].isin(multi_sale_vins)][['vin', 'saledate', 'seller', 'sellingprice']].sort_values(['vin', 'saledate']))\n",
    "else:\n",
    "    print(\"\\nNo VINs with multiple sales found.\")\n",
    "\n",
    "# Step 3: Check for vehicle attribute duplicates (same vin, different attributes)\n",
    "\n",
    "vehicle_cols = ['vin', 'make', 'model', 'trim', 'body', 'year', 'transmission', 'color', 'interior']\n",
    "vehicle_duplicates = vehicleSale[vehicle_cols].duplicated(subset=['vin'], keep=False)\n",
    "\n",
    "if vehicle_duplicates.sum() > 0:\n",
    "    print(f\"\\nFound {vehicle_duplicates.sum()} rows with potential vehicle attribute duplicates (same vin, different attributes):\")\n",
    "    print(vehicleSale[vehicle_cols][vehicle_duplicates].sort_values('vin').head(10))\n",
    "    \n",
    "    # Resolve: Keep first occurrence\n",
    "    vehicleSale_vehicle = vehicleSale[vehicle_cols].drop_duplicates(subset=['vin'], keep='first')\n",
    "    print(f\"Unique vehicle records: {len(vehicleSale_vehicle)}\")\n",
    "   \n",
    "    # Merge back to keep only consistent vehicle attributes\n",
    "    vehicleSale_unique = vehicleSale.drop(columns=vehicle_cols[1:]).merge(vehicleSale_vehicle, on='vin', how='left')\n",
    "    print(f\"Resolved vehicle duplicates. Remaining rows: {len(vehicleSale_unique)}\")\n",
    "else:\n",
    "    print(\"\\nNo vehicle attribute duplicates found (all VINs have consistent attributes).\")\n",
    "\n",
    "# Step 4: Save cleaned CSV\n",
    "#vehicleSale.to_csv('car_sales_cleaned.csv', index=False)\n",
    "#print(f\"\\nSaved cleaned CSV: car_sales_cleaned.csv\")\n",
    "print(f\"Final rows: {len(vehicleSale_unique)}, Unique VINs: {vehicleSale_unique['vin'].nunique()}\")"
   ]
  },
  {
   "cell_type": "code",
   "execution_count": 15,
   "metadata": {
    "execution": {
     "iopub.execute_input": "2025-06-24T07:58:10.645779Z",
     "iopub.status.busy": "2025-06-24T07:58:10.645511Z",
     "iopub.status.idle": "2025-06-24T07:58:10.658867Z",
     "shell.execute_reply": "2025-06-24T07:58:10.658120Z",
     "shell.execute_reply.started": "2025-06-24T07:58:10.645755Z"
    },
    "trusted": true
   },
   "outputs": [
    {
     "data": {
      "text/html": [
       "<div>\n",
       "<style scoped>\n",
       "    .dataframe tbody tr th:only-of-type {\n",
       "        vertical-align: middle;\n",
       "    }\n",
       "\n",
       "    .dataframe tbody tr th {\n",
       "        vertical-align: top;\n",
       "    }\n",
       "\n",
       "    .dataframe thead th {\n",
       "        text-align: right;\n",
       "    }\n",
       "</style>\n",
       "<table border=\"1\" class=\"dataframe\">\n",
       "  <thead>\n",
       "    <tr style=\"text-align: right;\">\n",
       "      <th></th>\n",
       "      <th>vin</th>\n",
       "      <th>state</th>\n",
       "      <th>condition</th>\n",
       "      <th>odometer</th>\n",
       "      <th>seller</th>\n",
       "      <th>mmr</th>\n",
       "      <th>sellingprice</th>\n",
       "      <th>saledate</th>\n",
       "      <th>make</th>\n",
       "      <th>model</th>\n",
       "      <th>trim</th>\n",
       "      <th>body</th>\n",
       "      <th>year</th>\n",
       "      <th>transmission</th>\n",
       "      <th>color</th>\n",
       "      <th>interior</th>\n",
       "    </tr>\n",
       "  </thead>\n",
       "  <tbody>\n",
       "    <tr>\n",
       "      <th>0</th>\n",
       "      <td>5xyktca69fg566472</td>\n",
       "      <td>CA</td>\n",
       "      <td>5.0</td>\n",
       "      <td>16639.0</td>\n",
       "      <td>Kia Motors America  Inc</td>\n",
       "      <td>20500.0</td>\n",
       "      <td>21500.0</td>\n",
       "      <td>Tue Dec 16 2014 12:30:00 GMT-0800 (PST)</td>\n",
       "      <td>Kia</td>\n",
       "      <td>Sorento</td>\n",
       "      <td>Lx</td>\n",
       "      <td>Suv</td>\n",
       "      <td>2015</td>\n",
       "      <td>Automatic</td>\n",
       "      <td>White</td>\n",
       "      <td>Black</td>\n",
       "    </tr>\n",
       "    <tr>\n",
       "      <th>1</th>\n",
       "      <td>5xyktca69fg561319</td>\n",
       "      <td>CA</td>\n",
       "      <td>5.0</td>\n",
       "      <td>9393.0</td>\n",
       "      <td>Kia Motors America  Inc</td>\n",
       "      <td>20800.0</td>\n",
       "      <td>21500.0</td>\n",
       "      <td>Tue Dec 16 2014 12:30:00 GMT-0800 (PST)</td>\n",
       "      <td>Kia</td>\n",
       "      <td>Sorento</td>\n",
       "      <td>Lx</td>\n",
       "      <td>Suv</td>\n",
       "      <td>2015</td>\n",
       "      <td>Automatic</td>\n",
       "      <td>White</td>\n",
       "      <td>Beige</td>\n",
       "    </tr>\n",
       "    <tr>\n",
       "      <th>2</th>\n",
       "      <td>wba3c1c51ek116351</td>\n",
       "      <td>CA</td>\n",
       "      <td>45.0</td>\n",
       "      <td>1331.0</td>\n",
       "      <td>Financial Services Remarketing (Lease)</td>\n",
       "      <td>31900.0</td>\n",
       "      <td>30000.0</td>\n",
       "      <td>Thu Jan 15 2015 04:30:00 GMT-0800 (PST)</td>\n",
       "      <td>Bmw</td>\n",
       "      <td>3 Series</td>\n",
       "      <td>328I Sulev</td>\n",
       "      <td>Sedan</td>\n",
       "      <td>2014</td>\n",
       "      <td>Automatic</td>\n",
       "      <td>Gray</td>\n",
       "      <td>Black</td>\n",
       "    </tr>\n",
       "    <tr>\n",
       "      <th>3</th>\n",
       "      <td>yv1612tb4f1310987</td>\n",
       "      <td>CA</td>\n",
       "      <td>41.0</td>\n",
       "      <td>14282.0</td>\n",
       "      <td>Volvo Na Rep/World Omni</td>\n",
       "      <td>27500.0</td>\n",
       "      <td>27750.0</td>\n",
       "      <td>Thu Jan 29 2015 04:30:00 GMT-0800 (PST)</td>\n",
       "      <td>Volvo</td>\n",
       "      <td>S60</td>\n",
       "      <td>T5</td>\n",
       "      <td>Sedan</td>\n",
       "      <td>2015</td>\n",
       "      <td>Automatic</td>\n",
       "      <td>White</td>\n",
       "      <td>Black</td>\n",
       "    </tr>\n",
       "    <tr>\n",
       "      <th>4</th>\n",
       "      <td>wba6b2c57ed129731</td>\n",
       "      <td>CA</td>\n",
       "      <td>43.0</td>\n",
       "      <td>2641.0</td>\n",
       "      <td>Financial Services Remarketing (Lease)</td>\n",
       "      <td>66000.0</td>\n",
       "      <td>67000.0</td>\n",
       "      <td>Thu Dec 18 2014 12:30:00 GMT-0800 (PST)</td>\n",
       "      <td>Bmw</td>\n",
       "      <td>6 Series Gran Coupe</td>\n",
       "      <td>650I</td>\n",
       "      <td>Sedan</td>\n",
       "      <td>2014</td>\n",
       "      <td>Automatic</td>\n",
       "      <td>Gray</td>\n",
       "      <td>Black</td>\n",
       "    </tr>\n",
       "  </tbody>\n",
       "</table>\n",
       "</div>"
      ],
      "text/plain": [
       "                 vin state  condition  odometer  \\\n",
       "0  5xyktca69fg566472    CA        5.0   16639.0   \n",
       "1  5xyktca69fg561319    CA        5.0    9393.0   \n",
       "2  wba3c1c51ek116351    CA       45.0    1331.0   \n",
       "3  yv1612tb4f1310987    CA       41.0   14282.0   \n",
       "4  wba6b2c57ed129731    CA       43.0    2641.0   \n",
       "\n",
       "                                   seller      mmr  sellingprice  \\\n",
       "0                 Kia Motors America  Inc  20500.0       21500.0   \n",
       "1                 Kia Motors America  Inc  20800.0       21500.0   \n",
       "2  Financial Services Remarketing (Lease)  31900.0       30000.0   \n",
       "3                 Volvo Na Rep/World Omni  27500.0       27750.0   \n",
       "4  Financial Services Remarketing (Lease)  66000.0       67000.0   \n",
       "\n",
       "                                  saledate   make                model  \\\n",
       "0  Tue Dec 16 2014 12:30:00 GMT-0800 (PST)    Kia              Sorento   \n",
       "1  Tue Dec 16 2014 12:30:00 GMT-0800 (PST)    Kia              Sorento   \n",
       "2  Thu Jan 15 2015 04:30:00 GMT-0800 (PST)    Bmw             3 Series   \n",
       "3  Thu Jan 29 2015 04:30:00 GMT-0800 (PST)  Volvo                  S60   \n",
       "4  Thu Dec 18 2014 12:30:00 GMT-0800 (PST)    Bmw  6 Series Gran Coupe   \n",
       "\n",
       "         trim   body  year transmission  color interior  \n",
       "0          Lx    Suv  2015    Automatic  White    Black  \n",
       "1          Lx    Suv  2015    Automatic  White    Beige  \n",
       "2  328I Sulev  Sedan  2014    Automatic   Gray    Black  \n",
       "3          T5  Sedan  2015    Automatic  White    Black  \n",
       "4        650I  Sedan  2014    Automatic   Gray    Black  "
      ]
     },
     "execution_count": 15,
     "metadata": {},
     "output_type": "execute_result"
    }
   ],
   "source": [
    "vehicleSale_unique.head()"
   ]
  },
  {
   "cell_type": "markdown",
   "metadata": {},
   "source": [
    "# Check Invalid values in model, body, seller, "
   ]
  },
  {
   "cell_type": "code",
   "execution_count": 16,
   "metadata": {
    "execution": {
     "iopub.execute_input": "2025-06-24T07:58:10.660173Z",
     "iopub.status.busy": "2025-06-24T07:58:10.659870Z",
     "iopub.status.idle": "2025-06-24T07:58:12.473679Z",
     "shell.execute_reply": "2025-06-24T07:58:12.472927Z",
     "shell.execute_reply.started": "2025-06-24T07:58:10.660144Z"
    },
    "trusted": true
   },
   "outputs": [
    {
     "name": "stdout",
     "output_type": "stream",
     "text": [
      "Invalid body: []\n",
      "Invalid model: ['911' '500' '200' '300' '1500' '2500' '3500' '6' '626' '3' '360']\n",
      "Invalid seller: []\n",
      "Invalid trim: ['+' '1500' '2' '4' '2500' '!' '3500' '3' '1' '1794' '5' '427' '85' '60']\n",
      "Invalid body: [] Count: 0\n",
      "Invalid model: [] Count: 0\n",
      "Invalid seller: [] Count: 0\n",
      "Invalid trim: [] Count: 0\n"
     ]
    }
   ],
   "source": [
    "suspicious_body = vehicleSale[vehicleSale['body'].str.match(r'^[^a-zA-Z\\s-]+$', na=False)]\n",
    "print('Invalid body:', suspicious_body['body'].unique())\n",
    "\n",
    "suspicious_model = vehicleSale[vehicleSale['model'].str.match(r'^[^a-zA-Z0-9\\s-]+$', na=False) | vehicleSale['model'].str.match(r'^\\d+$', na=False)]\n",
    "print('Invalid model:', suspicious_model['model'].unique())\n",
    "\n",
    "suspicious_seller = vehicleSale[vehicleSale['seller'].str.match(r'^[^a-zA-Z0-9\\s.,&-]+$', na=False)]\n",
    "print('Invalid seller:', suspicious_seller['seller'].unique())\n",
    "\n",
    "suspicious_trims = vehicleSale[vehicleSale['trim'].str.match(r'^[^a-zA-Z0-9]+$', na=False) | vehicleSale['trim'].str.match(r'^\\d+$', na=False)]\n",
    "print('Invalid trim:', suspicious_trims['trim'].unique())\n",
    "\n",
    "# Null and Placeholder Detection\n",
    "for col in ['body', 'model', 'seller', 'trim']:\n",
    "    invalid = vehicleSale[vehicleSale[col].isna() | (vehicleSale[col] == '') | vehicleSale[col].str.lower().isin(['n/a', 'unknown', 'none'])]\n",
    "    print(f'Invalid {col}:', invalid[col].unique(), f'Count: {len(invalid)}')"
   ]
  },
  {
   "cell_type": "markdown",
   "metadata": {},
   "source": [
    "# check transmission column values"
   ]
  },
  {
   "cell_type": "code",
   "execution_count": 17,
   "metadata": {
    "execution": {
     "iopub.execute_input": "2025-06-24T07:58:12.474730Z",
     "iopub.status.busy": "2025-06-24T07:58:12.474520Z",
     "iopub.status.idle": "2025-06-24T07:58:12.521604Z",
     "shell.execute_reply": "2025-06-24T07:58:12.520998Z",
     "shell.execute_reply.started": "2025-06-24T07:58:12.474713Z"
    },
    "trusted": true
   },
   "outputs": [
    {
     "name": "stdout",
     "output_type": "stream",
     "text": [
      "transmission\n",
      "Automatic    450011\n",
      "Unknown       60447\n",
      "Manual        15731\n",
      "Name: count, dtype: int64\n"
     ]
    }
   ],
   "source": [
    "#count vehicles with specific transimisiion to check valid transmission\n",
    "transimission_counts = vehicleSale_unique['transmission'].value_counts()\n",
    "print(transimission_counts)"
   ]
  },
  {
   "cell_type": "markdown",
   "metadata": {},
   "source": [
    "# Check interior column values"
   ]
  },
  {
   "cell_type": "code",
   "execution_count": 18,
   "metadata": {
    "execution": {
     "iopub.execute_input": "2025-06-24T07:58:12.522470Z",
     "iopub.status.busy": "2025-06-24T07:58:12.522295Z",
     "iopub.status.idle": "2025-06-24T07:58:12.594772Z",
     "shell.execute_reply": "2025-06-24T07:58:12.593781Z",
     "shell.execute_reply.started": "2025-06-24T07:58:12.522457Z"
    },
    "trusted": true
   },
   "outputs": [
    {
     "name": "stdout",
     "output_type": "stream",
     "text": [
      "interior\n",
      "Black        238039\n",
      "Gray         167169\n",
      "Beige         56541\n",
      "Tan           40380\n",
      "—             10961\n",
      "Brown          8142\n",
      "Red            1265\n",
      "Silver         1036\n",
      "Blue            801\n",
      "Off-White       474\n",
      "Purple          308\n",
      "Gold            305\n",
      "White           239\n",
      "Green           208\n",
      "Burgundy        168\n",
      "Orange          135\n",
      "Yellow           18\n",
      "Name: count, dtype: int64\n"
     ]
    }
   ],
   "source": [
    "#count vehicles with specific interior to check valid interior\n",
    "interior_counts = vehicleSale_unique['interior'].value_counts()\n",
    "print(interior_counts)"
   ]
  },
  {
   "cell_type": "code",
   "execution_count": 19,
   "metadata": {
    "execution": {
     "iopub.execute_input": "2025-06-24T07:58:12.596272Z",
     "iopub.status.busy": "2025-06-24T07:58:12.595972Z",
     "iopub.status.idle": "2025-06-24T07:58:12.617286Z",
     "shell.execute_reply": "2025-06-24T07:58:12.616614Z",
     "shell.execute_reply.started": "2025-06-24T07:58:12.596247Z"
    },
    "trusted": true
   },
   "outputs": [
    {
     "data": {
      "text/plain": [
       "(526189, 16)"
      ]
     },
     "execution_count": 19,
     "metadata": {},
     "output_type": "execute_result"
    }
   ],
   "source": [
    "vehicleSale_unique.shape"
   ]
  },
  {
   "cell_type": "markdown",
   "metadata": {},
   "source": [
    "# Remove invalid values in interior column"
   ]
  },
  {
   "cell_type": "code",
   "execution_count": 20,
   "metadata": {
    "execution": {
     "iopub.execute_input": "2025-06-24T07:58:12.618196Z",
     "iopub.status.busy": "2025-06-24T07:58:12.617992Z",
     "iopub.status.idle": "2025-06-24T07:58:12.852683Z",
     "shell.execute_reply": "2025-06-24T07:58:12.852054Z",
     "shell.execute_reply.started": "2025-06-24T07:58:12.618180Z"
    },
    "trusted": true
   },
   "outputs": [
    {
     "name": "stdout",
     "output_type": "stream",
     "text": [
      "interior\n",
      "Black        238039\n",
      "Gray         167169\n",
      "Beige         56541\n",
      "Tan           40380\n",
      "Brown          8142\n",
      "Red            1265\n",
      "Silver         1036\n",
      "Blue            801\n",
      "Off-White       474\n",
      "Purple          308\n",
      "Gold            305\n",
      "White           239\n",
      "Green           208\n",
      "Burgundy        168\n",
      "Orange          135\n",
      "Yellow           18\n",
      "Name: count, dtype: int64\n"
     ]
    }
   ],
   "source": [
    "# Remove rows where interior is just a dash or em dash\n",
    "vehicleSale_unique = vehicleSale_unique[vehicleSale_unique['interior'].str.strip() != '—']\n",
    "\n",
    "#count vehicles with specific interior to check valid color\n",
    "interior_counts = vehicleSale_unique['interior'].value_counts()\n",
    "print(interior_counts)"
   ]
  },
  {
   "cell_type": "code",
   "execution_count": 21,
   "metadata": {
    "execution": {
     "iopub.execute_input": "2025-06-24T07:58:12.853676Z",
     "iopub.status.busy": "2025-06-24T07:58:12.853423Z",
     "iopub.status.idle": "2025-06-24T07:58:12.858202Z",
     "shell.execute_reply": "2025-06-24T07:58:12.857440Z",
     "shell.execute_reply.started": "2025-06-24T07:58:12.853652Z"
    },
    "trusted": true
   },
   "outputs": [
    {
     "data": {
      "text/plain": [
       "(515228, 16)"
      ]
     },
     "execution_count": 21,
     "metadata": {},
     "output_type": "execute_result"
    }
   ],
   "source": [
    "vehicleSale_unique.shape"
   ]
  },
  {
   "cell_type": "markdown",
   "metadata": {},
   "source": [
    "# Check color column values "
   ]
  },
  {
   "cell_type": "code",
   "execution_count": 22,
   "metadata": {
    "execution": {
     "iopub.execute_input": "2025-06-24T07:58:12.859434Z",
     "iopub.status.busy": "2025-06-24T07:58:12.858911Z",
     "iopub.status.idle": "2025-06-24T07:58:12.917832Z",
     "shell.execute_reply": "2025-06-24T07:58:12.917178Z",
     "shell.execute_reply.started": "2025-06-24T07:58:12.859412Z"
    },
    "trusted": true
   },
   "outputs": [
    {
     "name": "stdout",
     "output_type": "stream",
     "text": [
      "color\n",
      "Black        103428\n",
      "White         98092\n",
      "Gray          77963\n",
      "Silver        77018\n",
      "Blue          46663\n",
      "Red           39993\n",
      "—             24395\n",
      "Gold           9643\n",
      "Green          9118\n",
      "Burgundy       8123\n",
      "Beige          8058\n",
      "Brown          6254\n",
      "Orange         1871\n",
      "Purple         1386\n",
      "Off-White      1361\n",
      "Yellow         1155\n",
      "Charcoal        460\n",
      "Turquoise       197\n",
      "Pink             37\n",
      "Lime             13\n",
      "Name: count, dtype: int64\n"
     ]
    }
   ],
   "source": [
    "#count vehicles with specific color to check valid color\n",
    "color_counts = vehicleSale_unique['color'].value_counts()\n",
    "print(color_counts)"
   ]
  },
  {
   "cell_type": "markdown",
   "metadata": {},
   "source": [
    "# remove color with invalid value"
   ]
  },
  {
   "cell_type": "code",
   "execution_count": 23,
   "metadata": {
    "execution": {
     "iopub.execute_input": "2025-06-24T07:58:12.918656Z",
     "iopub.status.busy": "2025-06-24T07:58:12.918503Z",
     "iopub.status.idle": "2025-06-24T07:58:13.648394Z",
     "shell.execute_reply": "2025-06-24T07:58:13.647619Z",
     "shell.execute_reply.started": "2025-06-24T07:58:12.918644Z"
    },
    "trusted": true
   },
   "outputs": [
    {
     "name": "stdout",
     "output_type": "stream",
     "text": [
      "color\n",
      "Black        103428\n",
      "White         98092\n",
      "Gray          77963\n",
      "Silver        77018\n",
      "Blue          46663\n",
      "Red           39993\n",
      "Gold           9643\n",
      "Green          9118\n",
      "Burgundy       8123\n",
      "Beige          8058\n",
      "Brown          6254\n",
      "Orange         1871\n",
      "Purple         1386\n",
      "Off-White      1361\n",
      "Yellow         1155\n",
      "Charcoal        460\n",
      "Turquoise       197\n",
      "Pink             37\n",
      "Lime             13\n",
      "Name: count, dtype: int64\n"
     ]
    }
   ],
   "source": [
    "#remove color with - value\n",
    "vehicleSale_unique = vehicleSale_unique[vehicleSale_unique['color'].str.strip() != 'â€”']\n",
    "vehicleSale_unique = vehicleSale_unique[vehicleSale_unique['color'].str.strip() != '—']\n",
    "\n",
    "#count vehicles with specific color to check valid color\n",
    "color_counts = vehicleSale_unique['color'].value_counts()\n",
    "print(color_counts)"
   ]
  },
  {
   "cell_type": "code",
   "execution_count": 24,
   "metadata": {
    "execution": {
     "iopub.execute_input": "2025-06-24T07:58:13.649775Z",
     "iopub.status.busy": "2025-06-24T07:58:13.649210Z",
     "iopub.status.idle": "2025-06-24T07:58:13.653959Z",
     "shell.execute_reply": "2025-06-24T07:58:13.653391Z",
     "shell.execute_reply.started": "2025-06-24T07:58:13.649751Z"
    },
    "trusted": true
   },
   "outputs": [
    {
     "data": {
      "text/plain": [
       "(490833, 16)"
      ]
     },
     "execution_count": 24,
     "metadata": {},
     "output_type": "execute_result"
    }
   ],
   "source": [
    "vehicleSale_unique.shape"
   ]
  },
  {
   "cell_type": "markdown",
   "metadata": {},
   "source": [
    "# Check invalid input in trim column"
   ]
  },
  {
   "cell_type": "code",
   "execution_count": 25,
   "metadata": {
    "execution": {
     "iopub.execute_input": "2025-06-24T07:58:13.654829Z",
     "iopub.status.busy": "2025-06-24T07:58:13.654615Z",
     "iopub.status.idle": "2025-06-24T07:58:13.701791Z",
     "shell.execute_reply": "2025-06-24T07:58:13.701032Z",
     "shell.execute_reply.started": "2025-06-24T07:58:13.654805Z"
    },
    "trusted": true
   },
   "outputs": [
    {
     "name": "stdout",
     "output_type": "stream",
     "text": [
      "['Lx' '328I Sulev' 'T5' ... '4.2 Quattro Spyder' 'Ewb' 'Power Wagon']\n"
     ]
    }
   ],
   "source": [
    "print(vehicleSale_unique['trim'].unique())"
   ]
  },
  {
   "cell_type": "code",
   "execution_count": 26,
   "metadata": {
    "execution": {
     "iopub.execute_input": "2025-06-24T07:58:13.702874Z",
     "iopub.status.busy": "2025-06-24T07:58:13.702593Z",
     "iopub.status.idle": "2025-06-24T07:58:13.736337Z",
     "shell.execute_reply": "2025-06-24T07:58:13.735565Z",
     "shell.execute_reply.started": "2025-06-24T07:58:13.702859Z"
    },
    "trusted": true
   },
   "outputs": [
    {
     "name": "stdout",
     "output_type": "stream",
     "text": [
      "trim\n",
      "Base                     49141\n",
      "Se                       38093\n",
      "Lx                       19203\n",
      "Limited                  16255\n",
      "Lt                       15974\n",
      "                         ...  \n",
      "Comfort                      1\n",
      "Cxl Plus                     1\n",
      "3500 High Roof 158 Wb        1\n",
      "Mv                           1\n",
      "Ex35 Journey                 1\n",
      "Name: count, Length: 1398, dtype: int64\n"
     ]
    }
   ],
   "source": [
    "print(vehicleSale_unique['trim'].value_counts(dropna=False))"
   ]
  },
  {
   "cell_type": "code",
   "execution_count": 27,
   "metadata": {
    "execution": {
     "iopub.execute_input": "2025-06-24T07:58:13.737112Z",
     "iopub.status.busy": "2025-06-24T07:58:13.736954Z",
     "iopub.status.idle": "2025-06-24T07:58:13.928371Z",
     "shell.execute_reply": "2025-06-24T07:58:13.927630Z",
     "shell.execute_reply.started": "2025-06-24T07:58:13.737099Z"
    },
    "trusted": true
   },
   "outputs": [
    {
     "name": "stdout",
     "output_type": "stream",
     "text": [
      "Invalid values in trim: ['+' '!']\n"
     ]
    }
   ],
   "source": [
    "import re\n",
    "\n",
    "# Example: trim values that are only 1 character or contain only non-alphanumeric characters\n",
    "suspicious_trims = vehicleSale_unique[vehicleSale_unique['trim'].str.match(r'^[^a-zA-Z0-9]+$', na=False)]\n",
    "print('Invalid values in trim:', suspicious_trims['trim'].unique())\n"
   ]
  },
  {
   "cell_type": "markdown",
   "metadata": {},
   "source": [
    "# Remove the invalid input in trim column"
   ]
  },
  {
   "cell_type": "code",
   "execution_count": 28,
   "metadata": {
    "execution": {
     "iopub.execute_input": "2025-06-24T07:58:13.929529Z",
     "iopub.status.busy": "2025-06-24T07:58:13.929226Z",
     "iopub.status.idle": "2025-06-24T07:58:14.415183Z",
     "shell.execute_reply": "2025-06-24T07:58:14.414608Z",
     "shell.execute_reply.started": "2025-06-24T07:58:13.929508Z"
    },
    "trusted": true
   },
   "outputs": [
    {
     "name": "stdout",
     "output_type": "stream",
     "text": [
      "Invalid trim:  2005\n"
     ]
    }
   ],
   "source": [
    "#Check invalid input in trim column\n",
    "count_garbage1 = (vehicleSale_unique['trim'] == '+' ).sum()\n",
    "count_garbage2 = (vehicleSale_unique['trim'] == '!' ).sum()\n",
    "count_garbage = count_garbage1 + count_garbage2\n",
    "print('Invalid trim: ',count_garbage)\n",
    "\n",
    "#drop data with + and ! trim values\n",
    "vehicleSale_unique = vehicleSale_unique[vehicleSale_unique['trim'].str.strip() != '+']\n",
    "vehicleSale_unique = vehicleSale_unique[vehicleSale_unique['trim'].str.strip() != '!']"
   ]
  },
  {
   "cell_type": "code",
   "execution_count": 29,
   "metadata": {
    "execution": {
     "iopub.execute_input": "2025-06-24T07:58:14.416120Z",
     "iopub.status.busy": "2025-06-24T07:58:14.415861Z",
     "iopub.status.idle": "2025-06-24T07:58:14.486852Z",
     "shell.execute_reply": "2025-06-24T07:58:14.486231Z",
     "shell.execute_reply.started": "2025-06-24T07:58:14.416100Z"
    },
    "trusted": true
   },
   "outputs": [
    {
     "name": "stdout",
     "output_type": "stream",
     "text": [
      "Invalid trim: 0\n"
     ]
    }
   ],
   "source": [
    "#Check if removed successfully\n",
    "count_garbage1 = (vehicleSale_unique['trim'] == '+' ).sum()\n",
    "count_garbage2 = (vehicleSale_unique['trim'] == '!' ).sum()\n",
    "count_garbage = count_garbage1 + count_garbage2\n",
    "print('Invalid trim:', count_garbage)"
   ]
  },
  {
   "cell_type": "code",
   "execution_count": 30,
   "metadata": {
    "execution": {
     "iopub.execute_input": "2025-06-24T07:58:14.487930Z",
     "iopub.status.busy": "2025-06-24T07:58:14.487641Z",
     "iopub.status.idle": "2025-06-24T07:58:14.506088Z",
     "shell.execute_reply": "2025-06-24T07:58:14.505362Z",
     "shell.execute_reply.started": "2025-06-24T07:58:14.487874Z"
    },
    "trusted": true
   },
   "outputs": [
    {
     "data": {
      "text/plain": [
       "(488828, 16)"
      ]
     },
     "execution_count": 30,
     "metadata": {},
     "output_type": "execute_result"
    }
   ],
   "source": [
    "vehicleSale_unique.shape"
   ]
  },
  {
   "cell_type": "markdown",
   "metadata": {},
   "source": [
    "# Data Cleaning regarding odometer and sellingprice \n",
    "Issues Identified:\n",
    "\n",
    "Odometer outliers: Some values are extremely high (e.g., 999999) or suspiciously low (e.g., 31 miles)\n",
    "\n",
    "Price outliers: Some selling prices seem unrealistic (e.g., $1000 for a 2013 Nissan Maxima)"
   ]
  },
  {
   "cell_type": "code",
   "execution_count": 31,
   "metadata": {
    "execution": {
     "iopub.execute_input": "2025-06-24T07:58:14.506942Z",
     "iopub.status.busy": "2025-06-24T07:58:14.506738Z",
     "iopub.status.idle": "2025-06-24T07:58:14.924448Z",
     "shell.execute_reply": "2025-06-24T07:58:14.923734Z",
     "shell.execute_reply.started": "2025-06-24T07:58:14.506917Z"
    },
    "trusted": true
   },
   "outputs": [
    {
     "name": "stdout",
     "output_type": "stream",
     "text": [
      "Original rows: 488828\n",
      "After odometer filter: 480851\n",
      "After sellingprice filter: 472999\n",
      "After mmr filter: 472199\n"
     ]
    },
    {
     "data": {
      "text/html": [
       "<div>\n",
       "<style scoped>\n",
       "    .dataframe tbody tr th:only-of-type {\n",
       "        vertical-align: middle;\n",
       "    }\n",
       "\n",
       "    .dataframe tbody tr th {\n",
       "        vertical-align: top;\n",
       "    }\n",
       "\n",
       "    .dataframe thead th {\n",
       "        text-align: right;\n",
       "    }\n",
       "</style>\n",
       "<table border=\"1\" class=\"dataframe\">\n",
       "  <thead>\n",
       "    <tr style=\"text-align: right;\">\n",
       "      <th></th>\n",
       "      <th>vin</th>\n",
       "      <th>state</th>\n",
       "      <th>condition</th>\n",
       "      <th>odometer</th>\n",
       "      <th>seller</th>\n",
       "      <th>mmr</th>\n",
       "      <th>sellingprice</th>\n",
       "      <th>saledate</th>\n",
       "      <th>make</th>\n",
       "      <th>model</th>\n",
       "      <th>trim</th>\n",
       "      <th>body</th>\n",
       "      <th>year</th>\n",
       "      <th>transmission</th>\n",
       "      <th>color</th>\n",
       "      <th>interior</th>\n",
       "    </tr>\n",
       "  </thead>\n",
       "  <tbody>\n",
       "    <tr>\n",
       "      <th>0</th>\n",
       "      <td>5xyktca69fg566472</td>\n",
       "      <td>CA</td>\n",
       "      <td>5.0</td>\n",
       "      <td>16639.0</td>\n",
       "      <td>Kia Motors America  Inc</td>\n",
       "      <td>20500.0</td>\n",
       "      <td>21500.0</td>\n",
       "      <td>Tue Dec 16 2014 12:30:00 GMT-0800 (PST)</td>\n",
       "      <td>Kia</td>\n",
       "      <td>Sorento</td>\n",
       "      <td>Lx</td>\n",
       "      <td>Suv</td>\n",
       "      <td>2015</td>\n",
       "      <td>Automatic</td>\n",
       "      <td>White</td>\n",
       "      <td>Black</td>\n",
       "    </tr>\n",
       "    <tr>\n",
       "      <th>1</th>\n",
       "      <td>5xyktca69fg561319</td>\n",
       "      <td>CA</td>\n",
       "      <td>5.0</td>\n",
       "      <td>9393.0</td>\n",
       "      <td>Kia Motors America  Inc</td>\n",
       "      <td>20800.0</td>\n",
       "      <td>21500.0</td>\n",
       "      <td>Tue Dec 16 2014 12:30:00 GMT-0800 (PST)</td>\n",
       "      <td>Kia</td>\n",
       "      <td>Sorento</td>\n",
       "      <td>Lx</td>\n",
       "      <td>Suv</td>\n",
       "      <td>2015</td>\n",
       "      <td>Automatic</td>\n",
       "      <td>White</td>\n",
       "      <td>Beige</td>\n",
       "    </tr>\n",
       "    <tr>\n",
       "      <th>2</th>\n",
       "      <td>wba3c1c51ek116351</td>\n",
       "      <td>CA</td>\n",
       "      <td>45.0</td>\n",
       "      <td>1331.0</td>\n",
       "      <td>Financial Services Remarketing (Lease)</td>\n",
       "      <td>31900.0</td>\n",
       "      <td>30000.0</td>\n",
       "      <td>Thu Jan 15 2015 04:30:00 GMT-0800 (PST)</td>\n",
       "      <td>Bmw</td>\n",
       "      <td>3 Series</td>\n",
       "      <td>328I Sulev</td>\n",
       "      <td>Sedan</td>\n",
       "      <td>2014</td>\n",
       "      <td>Automatic</td>\n",
       "      <td>Gray</td>\n",
       "      <td>Black</td>\n",
       "    </tr>\n",
       "    <tr>\n",
       "      <th>3</th>\n",
       "      <td>yv1612tb4f1310987</td>\n",
       "      <td>CA</td>\n",
       "      <td>41.0</td>\n",
       "      <td>14282.0</td>\n",
       "      <td>Volvo Na Rep/World Omni</td>\n",
       "      <td>27500.0</td>\n",
       "      <td>27750.0</td>\n",
       "      <td>Thu Jan 29 2015 04:30:00 GMT-0800 (PST)</td>\n",
       "      <td>Volvo</td>\n",
       "      <td>S60</td>\n",
       "      <td>T5</td>\n",
       "      <td>Sedan</td>\n",
       "      <td>2015</td>\n",
       "      <td>Automatic</td>\n",
       "      <td>White</td>\n",
       "      <td>Black</td>\n",
       "    </tr>\n",
       "    <tr>\n",
       "      <th>4</th>\n",
       "      <td>wba6b2c57ed129731</td>\n",
       "      <td>CA</td>\n",
       "      <td>43.0</td>\n",
       "      <td>2641.0</td>\n",
       "      <td>Financial Services Remarketing (Lease)</td>\n",
       "      <td>66000.0</td>\n",
       "      <td>67000.0</td>\n",
       "      <td>Thu Dec 18 2014 12:30:00 GMT-0800 (PST)</td>\n",
       "      <td>Bmw</td>\n",
       "      <td>6 Series Gran Coupe</td>\n",
       "      <td>650I</td>\n",
       "      <td>Sedan</td>\n",
       "      <td>2014</td>\n",
       "      <td>Automatic</td>\n",
       "      <td>Gray</td>\n",
       "      <td>Black</td>\n",
       "    </tr>\n",
       "  </tbody>\n",
       "</table>\n",
       "</div>"
      ],
      "text/plain": [
       "                 vin state  condition  odometer  \\\n",
       "0  5xyktca69fg566472    CA        5.0   16639.0   \n",
       "1  5xyktca69fg561319    CA        5.0    9393.0   \n",
       "2  wba3c1c51ek116351    CA       45.0    1331.0   \n",
       "3  yv1612tb4f1310987    CA       41.0   14282.0   \n",
       "4  wba6b2c57ed129731    CA       43.0    2641.0   \n",
       "\n",
       "                                   seller      mmr  sellingprice  \\\n",
       "0                 Kia Motors America  Inc  20500.0       21500.0   \n",
       "1                 Kia Motors America  Inc  20800.0       21500.0   \n",
       "2  Financial Services Remarketing (Lease)  31900.0       30000.0   \n",
       "3                 Volvo Na Rep/World Omni  27500.0       27750.0   \n",
       "4  Financial Services Remarketing (Lease)  66000.0       67000.0   \n",
       "\n",
       "                                  saledate   make                model  \\\n",
       "0  Tue Dec 16 2014 12:30:00 GMT-0800 (PST)    Kia              Sorento   \n",
       "1  Tue Dec 16 2014 12:30:00 GMT-0800 (PST)    Kia              Sorento   \n",
       "2  Thu Jan 15 2015 04:30:00 GMT-0800 (PST)    Bmw             3 Series   \n",
       "3  Thu Jan 29 2015 04:30:00 GMT-0800 (PST)  Volvo                  S60   \n",
       "4  Thu Dec 18 2014 12:30:00 GMT-0800 (PST)    Bmw  6 Series Gran Coupe   \n",
       "\n",
       "         trim   body  year transmission  color interior  \n",
       "0          Lx    Suv  2015    Automatic  White    Black  \n",
       "1          Lx    Suv  2015    Automatic  White    Beige  \n",
       "2  328I Sulev  Sedan  2014    Automatic   Gray    Black  \n",
       "3          T5  Sedan  2015    Automatic  White    Black  \n",
       "4        650I  Sedan  2014    Automatic   Gray    Black  "
      ]
     },
     "execution_count": 31,
     "metadata": {},
     "output_type": "execute_result"
    }
   ],
   "source": [
    "print(\"Original rows:\", len(vehicleSale_unique))\n",
    "# 1. Clean odometer readings\n",
    "vehicleSale_unique = vehicleSale_unique[vehicleSale_unique['odometer'] < 200000]  # Remove unrealistic high mileage\n",
    "print(\"After odometer filter:\", len(vehicleSale_unique))\n",
    "\n",
    "# 2. Clean price range\n",
    "vehicleSale_unique = vehicleSale_unique[(vehicleSale_unique['sellingprice'] > 1000) & (vehicleSale_unique['sellingprice'] < 200000)]\n",
    "print(\"After sellingprice filter:\", len(vehicleSale_unique))\n",
    "\n",
    "# 3. Clean mmr range\n",
    "vehicleSale_unique = vehicleSale_unique[(vehicleSale_unique['mmr'] > 1000) & (vehicleSale_unique['mmr'] < 200000)]\n",
    "print(\"After mmr filter:\", len(vehicleSale_unique))\n",
    "\n",
    "\n",
    "vehicleSale_unique.head()"
   ]
  },
  {
   "cell_type": "code",
   "execution_count": 32,
   "metadata": {
    "execution": {
     "iopub.execute_input": "2025-06-24T07:58:14.925577Z",
     "iopub.status.busy": "2025-06-24T07:58:14.925317Z",
     "iopub.status.idle": "2025-06-24T07:58:14.930010Z",
     "shell.execute_reply": "2025-06-24T07:58:14.929322Z",
     "shell.execute_reply.started": "2025-06-24T07:58:14.925555Z"
    },
    "trusted": true
   },
   "outputs": [
    {
     "data": {
      "text/plain": [
       "(472199, 16)"
      ]
     },
     "execution_count": 32,
     "metadata": {},
     "output_type": "execute_result"
    }
   ],
   "source": [
    "vehicleSale_unique.shape"
   ]
  },
  {
   "cell_type": "markdown",
   "metadata": {},
   "source": [
    "# **Check condition column distribution and create a catagory**"
   ]
  },
  {
   "cell_type": "code",
   "execution_count": 33,
   "metadata": {
    "execution": {
     "iopub.execute_input": "2025-06-24T07:58:14.930986Z",
     "iopub.status.busy": "2025-06-24T07:58:14.930676Z",
     "iopub.status.idle": "2025-06-24T07:58:14.955376Z",
     "shell.execute_reply": "2025-06-24T07:58:14.954633Z",
     "shell.execute_reply.started": "2025-06-24T07:58:14.930961Z"
    },
    "trusted": true
   },
   "outputs": [
    {
     "name": "stdout",
     "output_type": "stream",
     "text": [
      "condition\n",
      "19.0    31408\n",
      "35.0    24190\n",
      "37.0    23440\n",
      "44.0    22796\n",
      "43.0    22376\n",
      "42.0    21966\n",
      "36.0    21066\n",
      "41.0    20830\n",
      "4.0     18462\n",
      "39.0    18032\n",
      "28.0    16973\n",
      "38.0    16956\n",
      "29.0    16794\n",
      "34.0    15720\n",
      "27.0    14179\n",
      "2.0     13166\n",
      "49.0    11403\n",
      "46.0    11172\n",
      "48.0    11152\n",
      "45.0    10937\n",
      "25.0    10753\n",
      "26.0    10335\n",
      "5.0     10009\n",
      "47.0     9996\n",
      "33.0     9582\n",
      "3.0      9276\n",
      "32.0     8979\n",
      "31.0     8259\n",
      "24.0     7945\n",
      "21.0     7619\n",
      "23.0     6880\n",
      "22.0     5078\n",
      "1.0      3571\n",
      "18.0      235\n",
      "17.0      160\n",
      "16.0      124\n",
      "15.0      104\n",
      "14.0       90\n",
      "12.0       68\n",
      "11.0       61\n",
      "13.0       57\n",
      "Name: count, dtype: int64\n",
      "Min condition: 1.0, Max condition: 49.0\n"
     ]
    }
   ],
   "source": [
    "print(vehicleSale_unique['condition'].value_counts())\n",
    "\n",
    "# Step 1: Get min and max values of the condition column\n",
    "min_condition = vehicleSale_unique['condition'].min()\n",
    "max_condition = vehicleSale_unique['condition'].max()\n",
    "print(f\"Min condition: {min_condition}, Max condition: {max_condition}\")"
   ]
  },
  {
   "cell_type": "code",
   "execution_count": 34,
   "metadata": {
    "execution": {
     "iopub.execute_input": "2025-06-24T07:58:14.956678Z",
     "iopub.status.busy": "2025-06-24T07:58:14.956395Z",
     "iopub.status.idle": "2025-06-24T07:58:14.976354Z",
     "shell.execute_reply": "2025-06-24T07:58:14.975763Z",
     "shell.execute_reply.started": "2025-06-24T07:58:14.956643Z"
    },
    "trusted": true
   },
   "outputs": [
    {
     "name": "stdout",
     "output_type": "stream",
     "text": [
      "[ 5. 45. 41. 43.  1. 34.  2. 42.  3. 48. 49. 17. 19. 29. 38. 44. 47. 32.\n",
      "  4. 25. 37. 39. 31. 28. 46. 36. 35. 26. 21. 22. 27. 24. 33. 23. 15. 16.\n",
      " 18. 12. 14. 11. 13.]\n"
     ]
    }
   ],
   "source": [
    "print(vehicleSale['condition'].unique())\n"
   ]
  },
  {
   "cell_type": "code",
   "execution_count": 35,
   "metadata": {
    "execution": {
     "iopub.execute_input": "2025-06-24T07:58:14.977365Z",
     "iopub.status.busy": "2025-06-24T07:58:14.977135Z",
     "iopub.status.idle": "2025-06-24T07:58:17.737407Z",
     "shell.execute_reply": "2025-06-24T07:58:17.736629Z",
     "shell.execute_reply.started": "2025-06-24T07:58:14.977349Z"
    },
    "trusted": true
   },
   "outputs": [
    {
     "name": "stderr",
     "output_type": "stream",
     "text": [
      "/usr/local/lib/python3.11/dist-packages/seaborn/_oldcore.py:1119: FutureWarning: use_inf_as_na option is deprecated and will be removed in a future version. Convert inf values to NaN before operating instead.\n",
      "  with pd.option_context('mode.use_inf_as_na', True):\n"
     ]
    },
    {
     "data": {
      "image/png": "[encoded data removed]",
      "text/plain": [
       "<Figure size 1000x600 with 1 Axes>"
      ]
     },
     "metadata": {},
     "output_type": "display_data"
    }
   ],
   "source": [
    "# Plot\n",
    "import matplotlib.pyplot as plt\n",
    "import seaborn as sns\n",
    "\n",
    "plt.figure(figsize=(10, 6))\n",
    "sns.histplot(vehicleSale_unique['condition'], bins=20, kde=True, color='skyblue')\n",
    "plt.title('Distribution of Vehicle Condition Scores', fontsize=14)\n",
    "plt.xlabel('Condition (1-49)', fontsize=12)\n",
    "plt.ylabel('Number of Vehicles', fontsize=12)\n",
    "plt.axvline(vehicleSale_unique['condition'].mean(), color='red', linestyle='--', label=f'Mean: {vehicleSale_unique[\"condition\"].mean():.1f}')\n",
    "plt.legend()\n",
    "plt.show()"
   ]
  },
  {
   "cell_type": "markdown",
   "metadata": {},
   "source": [
    "# Create condition catagory"
   ]
  },
  {
   "cell_type": "code",
   "execution_count": 36,
   "metadata": {
    "execution": {
     "iopub.execute_input": "2025-06-24T07:58:17.738446Z",
     "iopub.status.busy": "2025-06-24T07:58:17.738170Z",
     "iopub.status.idle": "2025-06-24T07:58:17.880918Z",
     "shell.execute_reply": "2025-06-24T07:58:17.880297Z",
     "shell.execute_reply.started": "2025-06-24T07:58:17.738430Z"
    },
    "trusted": true
   },
   "outputs": [
    {
     "data": {
      "text/html": [
       "<div>\n",
       "<style scoped>\n",
       "    .dataframe tbody tr th:only-of-type {\n",
       "        vertical-align: middle;\n",
       "    }\n",
       "\n",
       "    .dataframe tbody tr th {\n",
       "        vertical-align: top;\n",
       "    }\n",
       "\n",
       "    .dataframe thead th {\n",
       "        text-align: right;\n",
       "    }\n",
       "</style>\n",
       "<table border=\"1\" class=\"dataframe\">\n",
       "  <thead>\n",
       "    <tr style=\"text-align: right;\">\n",
       "      <th></th>\n",
       "      <th>vin</th>\n",
       "      <th>state</th>\n",
       "      <th>condition</th>\n",
       "      <th>odometer</th>\n",
       "      <th>seller</th>\n",
       "      <th>mmr</th>\n",
       "      <th>sellingprice</th>\n",
       "      <th>saledate</th>\n",
       "      <th>make</th>\n",
       "      <th>model</th>\n",
       "      <th>trim</th>\n",
       "      <th>body</th>\n",
       "      <th>year</th>\n",
       "      <th>transmission</th>\n",
       "      <th>color</th>\n",
       "      <th>interior</th>\n",
       "      <th>condition_category</th>\n",
       "    </tr>\n",
       "  </thead>\n",
       "  <tbody>\n",
       "    <tr>\n",
       "      <th>0</th>\n",
       "      <td>5xyktca69fg566472</td>\n",
       "      <td>CA</td>\n",
       "      <td>5.0</td>\n",
       "      <td>16639.0</td>\n",
       "      <td>Kia Motors America  Inc</td>\n",
       "      <td>20500.0</td>\n",
       "      <td>21500.0</td>\n",
       "      <td>Tue Dec 16 2014 12:30:00 GMT-0800 (PST)</td>\n",
       "      <td>Kia</td>\n",
       "      <td>Sorento</td>\n",
       "      <td>Lx</td>\n",
       "      <td>Suv</td>\n",
       "      <td>2015</td>\n",
       "      <td>Automatic</td>\n",
       "      <td>White</td>\n",
       "      <td>Black</td>\n",
       "      <td>Poor</td>\n",
       "    </tr>\n",
       "    <tr>\n",
       "      <th>1</th>\n",
       "      <td>5xyktca69fg561319</td>\n",
       "      <td>CA</td>\n",
       "      <td>5.0</td>\n",
       "      <td>9393.0</td>\n",
       "      <td>Kia Motors America  Inc</td>\n",
       "      <td>20800.0</td>\n",
       "      <td>21500.0</td>\n",
       "      <td>Tue Dec 16 2014 12:30:00 GMT-0800 (PST)</td>\n",
       "      <td>Kia</td>\n",
       "      <td>Sorento</td>\n",
       "      <td>Lx</td>\n",
       "      <td>Suv</td>\n",
       "      <td>2015</td>\n",
       "      <td>Automatic</td>\n",
       "      <td>White</td>\n",
       "      <td>Beige</td>\n",
       "      <td>Poor</td>\n",
       "    </tr>\n",
       "    <tr>\n",
       "      <th>2</th>\n",
       "      <td>wba3c1c51ek116351</td>\n",
       "      <td>CA</td>\n",
       "      <td>45.0</td>\n",
       "      <td>1331.0</td>\n",
       "      <td>Financial Services Remarketing (Lease)</td>\n",
       "      <td>31900.0</td>\n",
       "      <td>30000.0</td>\n",
       "      <td>Thu Jan 15 2015 04:30:00 GMT-0800 (PST)</td>\n",
       "      <td>Bmw</td>\n",
       "      <td>3 Series</td>\n",
       "      <td>328I Sulev</td>\n",
       "      <td>Sedan</td>\n",
       "      <td>2014</td>\n",
       "      <td>Automatic</td>\n",
       "      <td>Gray</td>\n",
       "      <td>Black</td>\n",
       "      <td>Excellent</td>\n",
       "    </tr>\n",
       "    <tr>\n",
       "      <th>3</th>\n",
       "      <td>yv1612tb4f1310987</td>\n",
       "      <td>CA</td>\n",
       "      <td>41.0</td>\n",
       "      <td>14282.0</td>\n",
       "      <td>Volvo Na Rep/World Omni</td>\n",
       "      <td>27500.0</td>\n",
       "      <td>27750.0</td>\n",
       "      <td>Thu Jan 29 2015 04:30:00 GMT-0800 (PST)</td>\n",
       "      <td>Volvo</td>\n",
       "      <td>S60</td>\n",
       "      <td>T5</td>\n",
       "      <td>Sedan</td>\n",
       "      <td>2015</td>\n",
       "      <td>Automatic</td>\n",
       "      <td>White</td>\n",
       "      <td>Black</td>\n",
       "      <td>Excellent</td>\n",
       "    </tr>\n",
       "    <tr>\n",
       "      <th>4</th>\n",
       "      <td>wba6b2c57ed129731</td>\n",
       "      <td>CA</td>\n",
       "      <td>43.0</td>\n",
       "      <td>2641.0</td>\n",
       "      <td>Financial Services Remarketing (Lease)</td>\n",
       "      <td>66000.0</td>\n",
       "      <td>67000.0</td>\n",
       "      <td>Thu Dec 18 2014 12:30:00 GMT-0800 (PST)</td>\n",
       "      <td>Bmw</td>\n",
       "      <td>6 Series Gran Coupe</td>\n",
       "      <td>650I</td>\n",
       "      <td>Sedan</td>\n",
       "      <td>2014</td>\n",
       "      <td>Automatic</td>\n",
       "      <td>Gray</td>\n",
       "      <td>Black</td>\n",
       "      <td>Excellent</td>\n",
       "    </tr>\n",
       "  </tbody>\n",
       "</table>\n",
       "</div>"
      ],
      "text/plain": [
       "                 vin state  condition  odometer  \\\n",
       "0  5xyktca69fg566472    CA        5.0   16639.0   \n",
       "1  5xyktca69fg561319    CA        5.0    9393.0   \n",
       "2  wba3c1c51ek116351    CA       45.0    1331.0   \n",
       "3  yv1612tb4f1310987    CA       41.0   14282.0   \n",
       "4  wba6b2c57ed129731    CA       43.0    2641.0   \n",
       "\n",
       "                                   seller      mmr  sellingprice  \\\n",
       "0                 Kia Motors America  Inc  20500.0       21500.0   \n",
       "1                 Kia Motors America  Inc  20800.0       21500.0   \n",
       "2  Financial Services Remarketing (Lease)  31900.0       30000.0   \n",
       "3                 Volvo Na Rep/World Omni  27500.0       27750.0   \n",
       "4  Financial Services Remarketing (Lease)  66000.0       67000.0   \n",
       "\n",
       "                                  saledate   make                model  \\\n",
       "0  Tue Dec 16 2014 12:30:00 GMT-0800 (PST)    Kia              Sorento   \n",
       "1  Tue Dec 16 2014 12:30:00 GMT-0800 (PST)    Kia              Sorento   \n",
       "2  Thu Jan 15 2015 04:30:00 GMT-0800 (PST)    Bmw             3 Series   \n",
       "3  Thu Jan 29 2015 04:30:00 GMT-0800 (PST)  Volvo                  S60   \n",
       "4  Thu Dec 18 2014 12:30:00 GMT-0800 (PST)    Bmw  6 Series Gran Coupe   \n",
       "\n",
       "         trim   body  year transmission  color interior condition_category  \n",
       "0          Lx    Suv  2015    Automatic  White    Black               Poor  \n",
       "1          Lx    Suv  2015    Automatic  White    Beige               Poor  \n",
       "2  328I Sulev  Sedan  2014    Automatic   Gray    Black          Excellent  \n",
       "3          T5  Sedan  2015    Automatic  White    Black          Excellent  \n",
       "4        650I  Sedan  2014    Automatic   Gray    Black          Excellent  "
      ]
     },
     "execution_count": 36,
     "metadata": {},
     "output_type": "execute_result"
    }
   ],
   "source": [
    "def condition_bin(condition):\n",
    "    if condition <= 10:\n",
    "        return 'Poor'\n",
    "    elif condition <= 20:\n",
    "        return 'Fair'\n",
    "    elif condition <= 30:\n",
    "        return 'Average'\n",
    "    elif condition <= 40:\n",
    "        return 'Good'\n",
    "    else:\n",
    "        return 'Excellent'\n",
    "vehicleSale_unique['condition_category'] = vehicleSale_unique['condition'].apply(condition_bin)\n",
    "\n",
    "vehicleSale_unique.head()\n"
   ]
  },
  {
   "cell_type": "code",
   "execution_count": 37,
   "metadata": {
    "execution": {
     "iopub.execute_input": "2025-06-24T07:58:17.882232Z",
     "iopub.status.busy": "2025-06-24T07:58:17.882008Z",
     "iopub.status.idle": "2025-06-24T07:58:17.886210Z",
     "shell.execute_reply": "2025-06-24T07:58:17.885672Z",
     "shell.execute_reply.started": "2025-06-24T07:58:17.882207Z"
    },
    "trusted": true
   },
   "outputs": [
    {
     "data": {
      "text/plain": [
       "(472199, 17)"
      ]
     },
     "execution_count": 37,
     "metadata": {},
     "output_type": "execute_result"
    }
   ],
   "source": [
    "vehicleSale_unique.shape"
   ]
  },
  {
   "cell_type": "markdown",
   "metadata": {},
   "source": [
    "# Validate state column"
   ]
  },
  {
   "cell_type": "code",
   "execution_count": 38,
   "metadata": {
    "execution": {
     "iopub.execute_input": "2025-06-24T07:58:17.887082Z",
     "iopub.status.busy": "2025-06-24T07:58:17.886832Z",
     "iopub.status.idle": "2025-06-24T07:58:18.104994Z",
     "shell.execute_reply": "2025-06-24T07:58:18.104439Z",
     "shell.execute_reply.started": "2025-06-24T07:58:17.887067Z"
    },
    "trusted": true
   },
   "outputs": [],
   "source": [
    "us_states_territories = [\n",
    "    'AL', 'AK', 'AZ', 'AR', 'CA', 'CO', 'CT', 'DE', 'FL', 'GA', 'HI', 'ID', 'IL', 'IN', 'IA',\n",
    "    'KS', 'KY', 'LA', 'ME', 'MD', 'MA', 'MI', 'MN', 'MS', 'MO', 'MT', 'NE', 'NV', 'NH', 'NJ',\n",
    "    'NM', 'NY', 'NC', 'ND', 'OH', 'OK', 'OR', 'PA', 'RI', 'SC', 'SD', 'TN', 'TX', 'UT', 'VT',\n",
    "    'VA', 'WA', 'WV', 'WI', 'WY'\n",
    "]\n",
    "vehicleSale_unique = vehicleSale_unique[vehicleSale_unique['state'].str.upper().isin(us_states_territories) | vehicleSale_unique['state'].isna()]"
   ]
  },
  {
   "cell_type": "markdown",
   "metadata": {},
   "source": [
    "# **Exapnd the state code to full State name**"
   ]
  },
  {
   "cell_type": "code",
   "execution_count": 39,
   "metadata": {
    "execution": {
     "iopub.execute_input": "2025-06-24T07:58:18.105840Z",
     "iopub.status.busy": "2025-06-24T07:58:18.105658Z",
     "iopub.status.idle": "2025-06-24T07:58:18.159495Z",
     "shell.execute_reply": "2025-06-24T07:58:18.158941Z",
     "shell.execute_reply.started": "2025-06-24T07:58:18.105827Z"
    },
    "trusted": true
   },
   "outputs": [
    {
     "data": {
      "text/html": [
       "<div>\n",
       "<style scoped>\n",
       "    .dataframe tbody tr th:only-of-type {\n",
       "        vertical-align: middle;\n",
       "    }\n",
       "\n",
       "    .dataframe tbody tr th {\n",
       "        vertical-align: top;\n",
       "    }\n",
       "\n",
       "    .dataframe thead th {\n",
       "        text-align: right;\n",
       "    }\n",
       "</style>\n",
       "<table border=\"1\" class=\"dataframe\">\n",
       "  <thead>\n",
       "    <tr style=\"text-align: right;\">\n",
       "      <th></th>\n",
       "      <th>vin</th>\n",
       "      <th>state</th>\n",
       "      <th>condition</th>\n",
       "      <th>odometer</th>\n",
       "      <th>seller</th>\n",
       "      <th>mmr</th>\n",
       "      <th>sellingprice</th>\n",
       "      <th>saledate</th>\n",
       "      <th>make</th>\n",
       "      <th>model</th>\n",
       "      <th>trim</th>\n",
       "      <th>body</th>\n",
       "      <th>year</th>\n",
       "      <th>transmission</th>\n",
       "      <th>color</th>\n",
       "      <th>interior</th>\n",
       "      <th>condition_category</th>\n",
       "      <th>state_full_name</th>\n",
       "    </tr>\n",
       "  </thead>\n",
       "  <tbody>\n",
       "    <tr>\n",
       "      <th>0</th>\n",
       "      <td>5xyktca69fg566472</td>\n",
       "      <td>CA</td>\n",
       "      <td>5.0</td>\n",
       "      <td>16639.0</td>\n",
       "      <td>Kia Motors America  Inc</td>\n",
       "      <td>20500.0</td>\n",
       "      <td>21500.0</td>\n",
       "      <td>Tue Dec 16 2014 12:30:00 GMT-0800 (PST)</td>\n",
       "      <td>Kia</td>\n",
       "      <td>Sorento</td>\n",
       "      <td>Lx</td>\n",
       "      <td>Suv</td>\n",
       "      <td>2015</td>\n",
       "      <td>Automatic</td>\n",
       "      <td>White</td>\n",
       "      <td>Black</td>\n",
       "      <td>Poor</td>\n",
       "      <td>California</td>\n",
       "    </tr>\n",
       "    <tr>\n",
       "      <th>1</th>\n",
       "      <td>5xyktca69fg561319</td>\n",
       "      <td>CA</td>\n",
       "      <td>5.0</td>\n",
       "      <td>9393.0</td>\n",
       "      <td>Kia Motors America  Inc</td>\n",
       "      <td>20800.0</td>\n",
       "      <td>21500.0</td>\n",
       "      <td>Tue Dec 16 2014 12:30:00 GMT-0800 (PST)</td>\n",
       "      <td>Kia</td>\n",
       "      <td>Sorento</td>\n",
       "      <td>Lx</td>\n",
       "      <td>Suv</td>\n",
       "      <td>2015</td>\n",
       "      <td>Automatic</td>\n",
       "      <td>White</td>\n",
       "      <td>Beige</td>\n",
       "      <td>Poor</td>\n",
       "      <td>California</td>\n",
       "    </tr>\n",
       "    <tr>\n",
       "      <th>2</th>\n",
       "      <td>wba3c1c51ek116351</td>\n",
       "      <td>CA</td>\n",
       "      <td>45.0</td>\n",
       "      <td>1331.0</td>\n",
       "      <td>Financial Services Remarketing (Lease)</td>\n",
       "      <td>31900.0</td>\n",
       "      <td>30000.0</td>\n",
       "      <td>Thu Jan 15 2015 04:30:00 GMT-0800 (PST)</td>\n",
       "      <td>Bmw</td>\n",
       "      <td>3 Series</td>\n",
       "      <td>328I Sulev</td>\n",
       "      <td>Sedan</td>\n",
       "      <td>2014</td>\n",
       "      <td>Automatic</td>\n",
       "      <td>Gray</td>\n",
       "      <td>Black</td>\n",
       "      <td>Excellent</td>\n",
       "      <td>California</td>\n",
       "    </tr>\n",
       "    <tr>\n",
       "      <th>3</th>\n",
       "      <td>yv1612tb4f1310987</td>\n",
       "      <td>CA</td>\n",
       "      <td>41.0</td>\n",
       "      <td>14282.0</td>\n",
       "      <td>Volvo Na Rep/World Omni</td>\n",
       "      <td>27500.0</td>\n",
       "      <td>27750.0</td>\n",
       "      <td>Thu Jan 29 2015 04:30:00 GMT-0800 (PST)</td>\n",
       "      <td>Volvo</td>\n",
       "      <td>S60</td>\n",
       "      <td>T5</td>\n",
       "      <td>Sedan</td>\n",
       "      <td>2015</td>\n",
       "      <td>Automatic</td>\n",
       "      <td>White</td>\n",
       "      <td>Black</td>\n",
       "      <td>Excellent</td>\n",
       "      <td>California</td>\n",
       "    </tr>\n",
       "    <tr>\n",
       "      <th>4</th>\n",
       "      <td>wba6b2c57ed129731</td>\n",
       "      <td>CA</td>\n",
       "      <td>43.0</td>\n",
       "      <td>2641.0</td>\n",
       "      <td>Financial Services Remarketing (Lease)</td>\n",
       "      <td>66000.0</td>\n",
       "      <td>67000.0</td>\n",
       "      <td>Thu Dec 18 2014 12:30:00 GMT-0800 (PST)</td>\n",
       "      <td>Bmw</td>\n",
       "      <td>6 Series Gran Coupe</td>\n",
       "      <td>650I</td>\n",
       "      <td>Sedan</td>\n",
       "      <td>2014</td>\n",
       "      <td>Automatic</td>\n",
       "      <td>Gray</td>\n",
       "      <td>Black</td>\n",
       "      <td>Excellent</td>\n",
       "      <td>California</td>\n",
       "    </tr>\n",
       "  </tbody>\n",
       "</table>\n",
       "</div>"
      ],
      "text/plain": [
       "                 vin state  condition  odometer  \\\n",
       "0  5xyktca69fg566472    CA        5.0   16639.0   \n",
       "1  5xyktca69fg561319    CA        5.0    9393.0   \n",
       "2  wba3c1c51ek116351    CA       45.0    1331.0   \n",
       "3  yv1612tb4f1310987    CA       41.0   14282.0   \n",
       "4  wba6b2c57ed129731    CA       43.0    2641.0   \n",
       "\n",
       "                                   seller      mmr  sellingprice  \\\n",
       "0                 Kia Motors America  Inc  20500.0       21500.0   \n",
       "1                 Kia Motors America  Inc  20800.0       21500.0   \n",
       "2  Financial Services Remarketing (Lease)  31900.0       30000.0   \n",
       "3                 Volvo Na Rep/World Omni  27500.0       27750.0   \n",
       "4  Financial Services Remarketing (Lease)  66000.0       67000.0   \n",
       "\n",
       "                                  saledate   make                model  \\\n",
       "0  Tue Dec 16 2014 12:30:00 GMT-0800 (PST)    Kia              Sorento   \n",
       "1  Tue Dec 16 2014 12:30:00 GMT-0800 (PST)    Kia              Sorento   \n",
       "2  Thu Jan 15 2015 04:30:00 GMT-0800 (PST)    Bmw             3 Series   \n",
       "3  Thu Jan 29 2015 04:30:00 GMT-0800 (PST)  Volvo                  S60   \n",
       "4  Thu Dec 18 2014 12:30:00 GMT-0800 (PST)    Bmw  6 Series Gran Coupe   \n",
       "\n",
       "         trim   body  year transmission  color interior condition_category  \\\n",
       "0          Lx    Suv  2015    Automatic  White    Black               Poor   \n",
       "1          Lx    Suv  2015    Automatic  White    Beige               Poor   \n",
       "2  328I Sulev  Sedan  2014    Automatic   Gray    Black          Excellent   \n",
       "3          T5  Sedan  2015    Automatic  White    Black          Excellent   \n",
       "4        650I  Sedan  2014    Automatic   Gray    Black          Excellent   \n",
       "\n",
       "  state_full_name  \n",
       "0      California  \n",
       "1      California  \n",
       "2      California  \n",
       "3      California  \n",
       "4      California  "
      ]
     },
     "execution_count": 39,
     "metadata": {},
     "output_type": "execute_result"
    }
   ],
   "source": [
    "state_abbreviation_map = {\n",
    "    \"AL\": \"Alabama\", \"AK\": \"Alaska\", \"AZ\": \"Arizona\", \"AR\": \"Arkansas\", \"CA\": \"California\",\n",
    "    \"CO\": \"Colorado\", \"CT\": \"Connecticut\", \"DE\": \"Delaware\", \"FL\": \"Florida\", \"GA\": \"Georgia\",\n",
    "    \"HI\": \"Hawaii\", \"ID\": \"Idaho\", \"IL\": \"Illinois\", \"IN\": \"Indiana\", \"IA\": \"Iowa\",\n",
    "    \"KS\": \"Kansas\", \"KY\": \"Kentucky\", \"LA\": \"Louisiana\", \"ME\": \"Maine\", \"MD\": \"Maryland\",\n",
    "    \"MA\": \"Massachusetts\", \"MI\": \"Michigan\", \"MN\": \"Minnesota\", \"MS\": \"Mississippi\", \"MO\": \"Missouri\",\n",
    "    \"MT\": \"Montana\", \"NE\": \"Nebraska\", \"NV\": \"Nevada\", \"NH\": \"New Hampshire\", \"NJ\": \"New Jersey\",\n",
    "    \"NM\": \"New Mexico\", \"NY\": \"New York\", \"NC\": \"North Carolina\", \"ND\": \"North Dakota\", \"OH\": \"Ohio\",\n",
    "    \"OK\": \"Oklahoma\", \"OR\": \"Oregon\", \"PA\": \"Pennsylvania\", \"RI\": \"Rhode Island\", \"SC\": \"South Carolina\",\n",
    "    \"SD\": \"South Dakota\", \"TN\": \"Tennessee\", \"TX\": \"Texas\", \"UT\": \"Utah\", \"VT\": \"Vermont\",\n",
    "    \"VA\": \"Virginia\", \"WA\": \"Washington\", \"WV\": \"West Virginia\", \"WI\": \"Wisconsin\", \"WY\": \"Wyoming\",\n",
    "    \"DC\": \"District of Columbia\", \"PR\": \"Puerto Rico\", \"GU\": \"Guam\", \"VI\": \"Virgin Islands\"\n",
    "}\n",
    "\n",
    "vehicleSale_unique['state_full_name'] = vehicleSale_unique['state'].map(state_abbreviation_map)\n",
    "vehicleSale_unique.head()"
   ]
  },
  {
   "cell_type": "code",
   "execution_count": 40,
   "metadata": {
    "execution": {
     "iopub.execute_input": "2025-06-24T07:58:18.160485Z",
     "iopub.status.busy": "2025-06-24T07:58:18.160230Z",
     "iopub.status.idle": "2025-06-24T07:58:18.196315Z",
     "shell.execute_reply": "2025-06-24T07:58:18.195619Z",
     "shell.execute_reply.started": "2025-06-24T07:58:18.160465Z"
    },
    "trusted": true
   },
   "outputs": [
    {
     "name": "stdout",
     "output_type": "stream",
     "text": [
      "state\n",
      "FL    69126  (14.85%)\n",
      "CA    62360  (13.40%)\n",
      "PA    48891  (10.50%)\n",
      "TX     37438  (8.04%)\n",
      "GA     29783  (6.40%)\n",
      "NJ     24145  (5.19%)\n",
      "IL     20792  (4.47%)\n",
      "OH     18537  (3.98%)\n",
      "NC     17868  (3.84%)\n",
      "MI     14541  (3.12%)\n",
      "TN     14392  (3.09%)\n",
      "MO     14013  (3.01%)\n",
      "NV     10418  (2.24%)\n",
      "VA      9597  (2.06%)\n",
      "MD      8656  (1.86%)\n",
      "WI      8156  (1.75%)\n",
      "MN      7642  (1.64%)\n",
      "AZ      7441  (1.60%)\n",
      "CO      7251  (1.56%)\n",
      "WA      6422  (1.38%)\n",
      "MA      5403  (1.16%)\n",
      "NY      4506  (0.97%)\n",
      "IN      3922  (0.84%)\n",
      "SC      3557  (0.76%)\n",
      "NE      3494  (0.75%)\n",
      "LA      1622  (0.35%)\n",
      "MS      1584  (0.34%)\n",
      "UT      1548  (0.33%)\n",
      "HI      1094  (0.24%)\n",
      "OR      1037  (0.22%)\n",
      "NM       104  (0.02%)\n",
      "OK        49  (0.01%)\n",
      "AL        23  (0.00%)\n",
      "Name: count, dtype: object\n",
      "Available states:  33\n"
     ]
    }
   ],
   "source": [
    "#check the unique state in the dataset\n",
    "# Get total number of rows (i.e., total vehicle sales)\n",
    "total_sales = len(vehicleSale_unique)\n",
    "\n",
    "# Count sales per state and compute percentage\n",
    "state_sales_percent = (\n",
    "    vehicleSale_unique['state'].value_counts()\n",
    "    .sort_values(ascending=False)\n",
    "    .apply(lambda x: f\"{x}  ({x / total_sales * 100:.2f}%)\")\n",
    ")\n",
    "\n",
    "# Display result\n",
    "print(state_sales_percent)\n",
    "print('Available states: ', len(state_sales_percent))"
   ]
  },
  {
   "cell_type": "markdown",
   "metadata": {},
   "source": [
    "# Create a region column based on the US states"
   ]
  },
  {
   "cell_type": "code",
   "execution_count": 41,
   "metadata": {
    "execution": {
     "iopub.execute_input": "2025-06-24T07:58:18.201452Z",
     "iopub.status.busy": "2025-06-24T07:58:18.201212Z",
     "iopub.status.idle": "2025-06-24T07:58:18.362475Z",
     "shell.execute_reply": "2025-06-24T07:58:18.361789Z",
     "shell.execute_reply.started": "2025-06-24T07:58:18.201427Z"
    },
    "trusted": true
   },
   "outputs": [
    {
     "data": {
      "text/html": [
       "<div>\n",
       "<style scoped>\n",
       "    .dataframe tbody tr th:only-of-type {\n",
       "        vertical-align: middle;\n",
       "    }\n",
       "\n",
       "    .dataframe tbody tr th {\n",
       "        vertical-align: top;\n",
       "    }\n",
       "\n",
       "    .dataframe thead th {\n",
       "        text-align: right;\n",
       "    }\n",
       "</style>\n",
       "<table border=\"1\" class=\"dataframe\">\n",
       "  <thead>\n",
       "    <tr style=\"text-align: right;\">\n",
       "      <th></th>\n",
       "      <th>vin</th>\n",
       "      <th>state</th>\n",
       "      <th>condition</th>\n",
       "      <th>odometer</th>\n",
       "      <th>seller</th>\n",
       "      <th>mmr</th>\n",
       "      <th>sellingprice</th>\n",
       "      <th>saledate</th>\n",
       "      <th>make</th>\n",
       "      <th>model</th>\n",
       "      <th>trim</th>\n",
       "      <th>body</th>\n",
       "      <th>year</th>\n",
       "      <th>transmission</th>\n",
       "      <th>color</th>\n",
       "      <th>interior</th>\n",
       "      <th>condition_category</th>\n",
       "      <th>state_full_name</th>\n",
       "      <th>region</th>\n",
       "    </tr>\n",
       "  </thead>\n",
       "  <tbody>\n",
       "    <tr>\n",
       "      <th>330150</th>\n",
       "      <td>5nmsh13e57h011018</td>\n",
       "      <td>FL</td>\n",
       "      <td>36.0</td>\n",
       "      <td>93726.0</td>\n",
       "      <td>Universal Motors Of Miami Inc</td>\n",
       "      <td>8000.0</td>\n",
       "      <td>8800.0</td>\n",
       "      <td>Tue Mar 10 2015 02:30:00 GMT-0700 (PDT)</td>\n",
       "      <td>Hyundai</td>\n",
       "      <td>Santa Fe</td>\n",
       "      <td>Limited</td>\n",
       "      <td>Suv</td>\n",
       "      <td>2007</td>\n",
       "      <td>Automatic</td>\n",
       "      <td>Blue</td>\n",
       "      <td>Gray</td>\n",
       "      <td>Good</td>\n",
       "      <td>Florida</td>\n",
       "      <td>South</td>\n",
       "    </tr>\n",
       "    <tr>\n",
       "      <th>85349</th>\n",
       "      <td>2c4rdgcg9er356781</td>\n",
       "      <td>MN</td>\n",
       "      <td>4.0</td>\n",
       "      <td>14172.0</td>\n",
       "      <td>Enterprise Holdings/Gdp</td>\n",
       "      <td>17100.0</td>\n",
       "      <td>17500.0</td>\n",
       "      <td>Wed Jan 14 2015 05:00:00 GMT-0800 (PST)</td>\n",
       "      <td>Dodge</td>\n",
       "      <td>Grand Caravan</td>\n",
       "      <td>Sxt</td>\n",
       "      <td>Minivan</td>\n",
       "      <td>2014</td>\n",
       "      <td>Automatic</td>\n",
       "      <td>Blue</td>\n",
       "      <td>Black</td>\n",
       "      <td>Poor</td>\n",
       "      <td>Minnesota</td>\n",
       "      <td>Midwest</td>\n",
       "    </tr>\n",
       "    <tr>\n",
       "      <th>36788</th>\n",
       "      <td>5yfburhe8ep011438</td>\n",
       "      <td>CA</td>\n",
       "      <td>42.0</td>\n",
       "      <td>23520.0</td>\n",
       "      <td>Remarketing By Ge/Manheim Southern California</td>\n",
       "      <td>13400.0</td>\n",
       "      <td>12000.0</td>\n",
       "      <td>Fri Dec 26 2014 15:00:00 GMT-0800 (PST)</td>\n",
       "      <td>Toyota</td>\n",
       "      <td>Corolla</td>\n",
       "      <td>Le</td>\n",
       "      <td>Sedan</td>\n",
       "      <td>2014</td>\n",
       "      <td>Automatic</td>\n",
       "      <td>White</td>\n",
       "      <td>Gray</td>\n",
       "      <td>Excellent</td>\n",
       "      <td>California</td>\n",
       "      <td>West</td>\n",
       "    </tr>\n",
       "    <tr>\n",
       "      <th>359429</th>\n",
       "      <td>yv1672mk9d2308561</td>\n",
       "      <td>WA</td>\n",
       "      <td>46.0</td>\n",
       "      <td>18695.0</td>\n",
       "      <td>Volvo Na Lease/World Omni</td>\n",
       "      <td>19400.0</td>\n",
       "      <td>22200.0</td>\n",
       "      <td>Wed Mar 04 2015 05:30:00 GMT-0800 (PST)</td>\n",
       "      <td>Volvo</td>\n",
       "      <td>C30</td>\n",
       "      <td>T5</td>\n",
       "      <td>Hatchback</td>\n",
       "      <td>2013</td>\n",
       "      <td>Automatic</td>\n",
       "      <td>White</td>\n",
       "      <td>Gray</td>\n",
       "      <td>Excellent</td>\n",
       "      <td>Washington</td>\n",
       "      <td>West</td>\n",
       "    </tr>\n",
       "    <tr>\n",
       "      <th>514789</th>\n",
       "      <td>1gcek19z75z271566</td>\n",
       "      <td>NC</td>\n",
       "      <td>19.0</td>\n",
       "      <td>173402.0</td>\n",
       "      <td>Rick Hendrick Chevrolet Buick Gmc</td>\n",
       "      <td>5350.0</td>\n",
       "      <td>7300.0</td>\n",
       "      <td>Mon Jun 15 2015 02:15:00 GMT-0700 (PDT)</td>\n",
       "      <td>Chevrolet</td>\n",
       "      <td>Silverado 1500</td>\n",
       "      <td>Base</td>\n",
       "      <td>Extended Cab</td>\n",
       "      <td>2005</td>\n",
       "      <td>Automatic</td>\n",
       "      <td>Burgundy</td>\n",
       "      <td>Gray</td>\n",
       "      <td>Fair</td>\n",
       "      <td>North Carolina</td>\n",
       "      <td>South</td>\n",
       "    </tr>\n",
       "  </tbody>\n",
       "</table>\n",
       "</div>"
      ],
      "text/plain": [
       "                      vin state  condition  odometer  \\\n",
       "330150  5nmsh13e57h011018    FL       36.0   93726.0   \n",
       "85349   2c4rdgcg9er356781    MN        4.0   14172.0   \n",
       "36788   5yfburhe8ep011438    CA       42.0   23520.0   \n",
       "359429  yv1672mk9d2308561    WA       46.0   18695.0   \n",
       "514789  1gcek19z75z271566    NC       19.0  173402.0   \n",
       "\n",
       "                                               seller      mmr  sellingprice  \\\n",
       "330150                  Universal Motors Of Miami Inc   8000.0        8800.0   \n",
       "85349                         Enterprise Holdings/Gdp  17100.0       17500.0   \n",
       "36788   Remarketing By Ge/Manheim Southern California  13400.0       12000.0   \n",
       "359429                      Volvo Na Lease/World Omni  19400.0       22200.0   \n",
       "514789              Rick Hendrick Chevrolet Buick Gmc   5350.0        7300.0   \n",
       "\n",
       "                                       saledate       make           model  \\\n",
       "330150  Tue Mar 10 2015 02:30:00 GMT-0700 (PDT)    Hyundai        Santa Fe   \n",
       "85349   Wed Jan 14 2015 05:00:00 GMT-0800 (PST)      Dodge   Grand Caravan   \n",
       "36788   Fri Dec 26 2014 15:00:00 GMT-0800 (PST)     Toyota         Corolla   \n",
       "359429  Wed Mar 04 2015 05:30:00 GMT-0800 (PST)      Volvo             C30   \n",
       "514789  Mon Jun 15 2015 02:15:00 GMT-0700 (PDT)  Chevrolet  Silverado 1500   \n",
       "\n",
       "           trim          body  year transmission     color interior  \\\n",
       "330150  Limited           Suv  2007    Automatic      Blue     Gray   \n",
       "85349       Sxt       Minivan  2014    Automatic      Blue    Black   \n",
       "36788        Le         Sedan  2014    Automatic     White     Gray   \n",
       "359429       T5     Hatchback  2013    Automatic     White     Gray   \n",
       "514789     Base  Extended Cab  2005    Automatic  Burgundy     Gray   \n",
       "\n",
       "       condition_category state_full_name   region  \n",
       "330150               Good         Florida    South  \n",
       "85349                Poor       Minnesota  Midwest  \n",
       "36788           Excellent      California     West  \n",
       "359429          Excellent      Washington     West  \n",
       "514789               Fair  North Carolina    South  "
      ]
     },
     "execution_count": 41,
     "metadata": {},
     "output_type": "execute_result"
    }
   ],
   "source": [
    "state_to_region = {\n",
    "    # Northeast\n",
    "    'CT': 'Northeast', 'ME': 'Northeast', 'MA': 'Northeast', 'NH': 'Northeast',\n",
    "    'RI': 'Northeast', 'VT': 'Northeast', 'NJ': 'Northeast', 'NY': 'Northeast', 'PA': 'Northeast',\n",
    "\n",
    "    # Midwest\n",
    "    'IL': 'Midwest', 'IN': 'Midwest', 'MI': 'Midwest', 'OH': 'Midwest', 'WI': 'Midwest',\n",
    "    'IA': 'Midwest', 'KS': 'Midwest', 'MN': 'Midwest', 'MO': 'Midwest', 'NE': 'Midwest',\n",
    "    'ND': 'Midwest', 'SD': 'Midwest',\n",
    "\n",
    "    # South\n",
    "    'DE': 'South', 'FL': 'South', 'GA': 'South', 'MD': 'South', 'NC': 'South', 'SC': 'South',\n",
    "    'VA': 'South', 'DC': 'South', 'WV': 'South', 'AL': 'South', 'KY': 'South', 'MS': 'South',\n",
    "    'TN': 'South', 'AR': 'South', 'LA': 'South', 'OK': 'South', 'TX': 'South',\n",
    "\n",
    "    # West\n",
    "    'AZ': 'West', 'CO': 'West', 'ID': 'West', 'MT': 'West', 'NV': 'West', 'NM': 'West',\n",
    "    'UT': 'West', 'WY': 'West', 'AK': 'West', 'CA': 'West', 'HI': 'West', 'OR': 'West', 'WA': 'West'\n",
    "}\n",
    "\n",
    "vehicleSale_unique['region'] = vehicleSale_unique['state'].str.upper().map(state_to_region)\n",
    "\n",
    "vehicleSale_unique.sample(n=5)\n"
   ]
  },
  {
   "cell_type": "markdown",
   "metadata": {},
   "source": [
    "# Work on make column"
   ]
  },
  {
   "cell_type": "code",
   "execution_count": 42,
   "metadata": {
    "execution": {
     "iopub.execute_input": "2025-06-24T07:58:18.363336Z",
     "iopub.status.busy": "2025-06-24T07:58:18.363117Z",
     "iopub.status.idle": "2025-06-24T07:58:18.393959Z",
     "shell.execute_reply": "2025-06-24T07:58:18.393282Z",
     "shell.execute_reply.started": "2025-06-24T07:58:18.363320Z"
    },
    "trusted": true
   },
   "outputs": [
    {
     "data": {
      "text/plain": [
       "51"
      ]
     },
     "execution_count": 42,
     "metadata": {},
     "output_type": "execute_result"
    }
   ],
   "source": [
    "#check the unique brand in the dataset\n",
    "vehicleSale_unique['make'].nunique()"
   ]
  },
  {
   "cell_type": "markdown",
   "metadata": {},
   "source": [
    "# Check invalid input in make column"
   ]
  },
  {
   "cell_type": "code",
   "execution_count": 43,
   "metadata": {
    "execution": {
     "iopub.execute_input": "2025-06-24T07:58:18.394991Z",
     "iopub.status.busy": "2025-06-24T07:58:18.394772Z",
     "iopub.status.idle": "2025-06-24T07:58:18.438245Z",
     "shell.execute_reply": "2025-06-24T07:58:18.437646Z",
     "shell.execute_reply.started": "2025-06-24T07:58:18.394973Z"
    },
    "trusted": true
   },
   "outputs": [
    {
     "name": "stdout",
     "output_type": "stream",
     "text": [
      "make\n",
      "Ford             75336  (16.19%)\n",
      "Chevrolet        53292  (11.45%)\n",
      "Nissan           47537  (10.21%)\n",
      "Toyota            34515  (7.42%)\n",
      "Dodge             26745  (5.75%)\n",
      "Honda             23581  (5.07%)\n",
      "Hyundai           19799  (4.25%)\n",
      "Bmw               17672  (3.80%)\n",
      "Chrysler          14741  (3.17%)\n",
      "Kia               14675  (3.15%)\n",
      "Infiniti          13912  (2.99%)\n",
      "Mercedes-Benz     13796  (2.96%)\n",
      "Jeep              13590  (2.92%)\n",
      "Lexus             10502  (2.26%)\n",
      "Volkswagen        10173  (2.19%)\n",
      "Gmc                9492  (2.04%)\n",
      "Mazda              7369  (1.58%)\n",
      "Cadillac           6523  (1.40%)\n",
      "Audi               5217  (1.12%)\n",
      "Acura              5214  (1.12%)\n",
      "Subaru             4604  (0.99%)\n",
      "Lincoln            4328  (0.93%)\n",
      "Ram                4288  (0.92%)\n",
      "Buick              4211  (0.90%)\n",
      "Pontiac            3281  (0.70%)\n",
      "Mitsubishi         3129  (0.67%)\n",
      "Volvo              3106  (0.67%)\n",
      "Mini               2437  (0.52%)\n",
      "Saturn             1961  (0.42%)\n",
      "Land Rover         1613  (0.35%)\n",
      "Scion              1521  (0.33%)\n",
      "Mercury            1379  (0.30%)\n",
      "Porsche            1306  (0.28%)\n",
      "Jaguar             1218  (0.26%)\n",
      "Hummer              743  (0.16%)\n",
      "Fiat                718  (0.15%)\n",
      "Suzuki              679  (0.15%)\n",
      "Smart               366  (0.08%)\n",
      "Saab                357  (0.08%)\n",
      "Maserati            124  (0.03%)\n",
      "Bentley             110  (0.02%)\n",
      "Isuzu                77  (0.02%)\n",
      "Oldsmobile           76  (0.02%)\n",
      "Aston Martin         23  (0.00%)\n",
      "Tesla                22  (0.00%)\n",
      "Ferrari              17  (0.00%)\n",
      "Rolls-Royce          15  (0.00%)\n",
      "Fisker                9  (0.00%)\n",
      "Plymouth              8  (0.00%)\n",
      "Lamborghini           4  (0.00%)\n",
      "Lotus                 1  (0.00%)\n",
      "Name: count, dtype: object\n",
      "Available make(brand):  51\n"
     ]
    }
   ],
   "source": [
    "#check the unique brand in the dataset\n",
    "# Get total number of rows (i.e., total vehicle sales)\n",
    "total_sales = len(vehicleSale_unique)\n",
    "\n",
    "# Count sales per state and compute percentage\n",
    "make_sales_percent = (\n",
    "    vehicleSale_unique['make'].value_counts()\n",
    "    .sort_values(ascending=False)\n",
    "    .apply(lambda x: f\"{x}  ({x / total_sales * 100:.2f}%)\")\n",
    ")\n",
    "\n",
    "# Display result\n",
    "print(make_sales_percent)\n",
    "print('Available make(brand): ', len(make_sales_percent))\n"
   ]
  },
  {
   "cell_type": "code",
   "execution_count": 44,
   "metadata": {
    "execution": {
     "iopub.execute_input": "2025-06-24T07:58:18.439155Z",
     "iopub.status.busy": "2025-06-24T07:58:18.438910Z",
     "iopub.status.idle": "2025-06-24T07:58:18.482452Z",
     "shell.execute_reply": "2025-06-24T07:58:18.481938Z",
     "shell.execute_reply.started": "2025-06-24T07:58:18.439139Z"
    },
    "trusted": true
   },
   "outputs": [
    {
     "name": "stdout",
     "output_type": "stream",
     "text": [
      "There are  51 make(brands) in the sale data\n",
      "There are 51 make(brands) in the sale data\n"
     ]
    }
   ],
   "source": [
    "unique_brand = vehicleSale_unique['make'].nunique()\n",
    "print(\"There are \", unique_brand, \"make(brands) in the sale data\")\n",
    "print(f\"There are {unique_brand} make(brands) in the sale data\")"
   ]
  },
  {
   "cell_type": "code",
   "execution_count": 45,
   "metadata": {
    "execution": {
     "iopub.execute_input": "2025-06-24T07:58:18.483283Z",
     "iopub.status.busy": "2025-06-24T07:58:18.483071Z",
     "iopub.status.idle": "2025-06-24T07:58:18.488087Z",
     "shell.execute_reply": "2025-06-24T07:58:18.487518Z",
     "shell.execute_reply.started": "2025-06-24T07:58:18.483268Z"
    },
    "trusted": true
   },
   "outputs": [
    {
     "data": {
      "text/plain": [
       "(465412, 19)"
      ]
     },
     "execution_count": 45,
     "metadata": {},
     "output_type": "execute_result"
    }
   ],
   "source": [
    "vehicleSale_unique.shape"
   ]
  },
  {
   "cell_type": "code",
   "execution_count": 46,
   "metadata": {
    "execution": {
     "iopub.execute_input": "2025-06-24T07:58:18.489077Z",
     "iopub.status.busy": "2025-06-24T07:58:18.488772Z",
     "iopub.status.idle": "2025-06-24T07:58:18.502558Z",
     "shell.execute_reply": "2025-06-24T07:58:18.501942Z",
     "shell.execute_reply.started": "2025-06-24T07:58:18.489054Z"
    },
    "trusted": true
   },
   "outputs": [],
   "source": [
    "# # Add to your script after loading vehicleSale\n",
    "# make_prices = vehicleSale_unique.groupby('make')['sellingprice'].mean().round(2)\n",
    "# print(\"Average sellingprice by make:\\n\", make_prices.sort_values(ascending=False))"
   ]
  },
  {
   "cell_type": "code",
   "execution_count": 47,
   "metadata": {
    "execution": {
     "iopub.execute_input": "2025-06-24T07:58:18.503346Z",
     "iopub.status.busy": "2025-06-24T07:58:18.503171Z",
     "iopub.status.idle": "2025-06-24T07:58:18.518596Z",
     "shell.execute_reply": "2025-06-24T07:58:18.518047Z",
     "shell.execute_reply.started": "2025-06-24T07:58:18.503333Z"
    },
    "trusted": true
   },
   "outputs": [
    {
     "data": {
      "text/plain": [
       "(465412, 19)"
      ]
     },
     "execution_count": 47,
     "metadata": {},
     "output_type": "execute_result"
    }
   ],
   "source": [
    "vehicleSale_unique.shape"
   ]
  },
  {
   "cell_type": "markdown",
   "metadata": {},
   "source": [
    "# Create make_catagory column from make "
   ]
  },
  {
   "cell_type": "code",
   "execution_count": 48,
   "metadata": {
    "execution": {
     "iopub.execute_input": "2025-06-24T07:58:18.519371Z",
     "iopub.status.busy": "2025-06-24T07:58:18.519200Z",
     "iopub.status.idle": "2025-06-24T07:58:18.623286Z",
     "shell.execute_reply": "2025-06-24T07:58:18.622627Z",
     "shell.execute_reply.started": "2025-06-24T07:58:18.519358Z"
    },
    "trusted": true
   },
   "outputs": [
    {
     "name": "stdout",
     "output_type": "stream",
     "text": [
      "\n",
      "Added make_category column\n",
      "Make category counts:\n",
      " make_category\n",
      "Domestic Mainstream    208316\n",
      "Asian Mainstream       157409\n",
      "European Luxury         40822\n",
      "Asian Luxury            29628\n",
      "European Mainstream     15716\n",
      "Domestic Luxury         10851\n",
      "Niche                    2670\n",
      "Name: count, dtype: int64\n"
     ]
    }
   ],
   "source": [
    "import pandas as pd\n",
    "\n",
    "# Instructions: Run in Kaggle or local environment.\n",
    "# Input: 'car_sales_data.csv' (~465,412 rows after filtering).\n",
    "# Output: Saves 'car_sales_with_make_category.csv' with make_category column.\n",
    "# Criteria: Origin (Domestic/Asian/European), Market Segment (Luxury: ≥$20,000 or premium branding, Mainstream: <$20,000), Volume (≥1,000 rows for main, <1,000 for Niche).\n",
    "\n",
    "# Make category mapping (51 makes)\n",
    "\n",
    "make_category_map = {\n",
    "    # Domestic Mainstream (U.S., mainstream, ≥1,000 rows)\n",
    "    'Ford': 'Domestic Mainstream', 'Chevrolet': 'Domestic Mainstream', 'Dodge': 'Domestic Mainstream',\n",
    "    'Chrysler': 'Domestic Mainstream', 'Jeep': 'Domestic Mainstream', 'Gmc': 'Domestic Mainstream',\n",
    "    'Ram': 'Domestic Mainstream', 'Buick': 'Domestic Mainstream', 'Pontiac': 'Domestic Mainstream',\n",
    "    'Mercury': 'Domestic Mainstream', 'Saturn': 'Domestic Mainstream',\n",
    "    # Domestic Luxury (U.S., luxury branding, ≥1,000 rows)\n",
    "    'Cadillac': 'Domestic Luxury', 'Lincoln': 'Domestic Luxury',\n",
    "    # Asian Mainstream (Asia, mainstream, ≥1,000 rows)\n",
    "    'Nissan': 'Asian Mainstream', 'Toyota': 'Asian Mainstream', 'Honda': 'Asian Mainstream',\n",
    "    'Hyundai': 'Asian Mainstream', 'Kia': 'Asian Mainstream', 'Mazda': 'Asian Mainstream',\n",
    "    'Scion': 'Asian Mainstream', 'Mitsubishi': 'Asian Mainstream', 'Subaru': 'Asian Mainstream',\n",
    "    'Suzuki': 'Asian Mainstream',\n",
    "    # Asian Luxury (Asia, luxury or ≥$20,000, ≥1,000 rows)\n",
    "    'Acura': 'Asian Luxury', 'Lexus': 'Asian Luxury', 'Infiniti': 'Asian Luxury',\n",
    "    # European Mainstream (Europe, mainstream, ≥1,000 rows)\n",
    "    'Volkswagen': 'European Mainstream', 'Volvo': 'European Mainstream', 'Mini': 'European Mainstream',\n",
    "    # European Luxury (Europe, luxury or ≥$20,000, ≥1,000 rows)\n",
    "    'Bmw': 'European Luxury', 'Mercedes-Benz': 'European Luxury', 'Audi': 'European Luxury',\n",
    "    'Porsche': 'European Luxury', 'Land Rover': 'European Luxury', 'Jaguar': 'European Luxury',\n",
    "    # Niche (any origin, <1,000 rows or specialty)\n",
    "    'Smart': 'Niche', 'Lotus': 'Niche', 'Isuzu': 'Niche', 'Fisker': 'Niche', 'Ferrari': 'Niche',\n",
    "    'Rolls-Royce': 'Niche', 'Lamborghini': 'Niche', 'Aston Martin': 'Niche', 'Bentley': 'Niche',\n",
    "    'Maserati': 'Niche', 'Saab': 'Niche', 'Hummer': 'Niche', 'Plymouth': 'Niche',\n",
    "    'Oldsmobile': 'Niche', 'Tesla': 'Niche', 'Fiat': 'Niche'\n",
    "}\n",
    "\n",
    "# Step 2: Optimize data types\n",
    "vehicleSale_unique['make'] = vehicleSale_unique['make'].astype('category')\n",
    "\n",
    "# Step 3: Add make_category column\n",
    "vehicleSale_unique['make_category'] = vehicleSale_unique['make'].str.title().map(make_category_map).fillna('Niche')\n",
    "print(\"\\nAdded make_category column\")\n",
    "print(\"Make category counts:\\n\", vehicleSale_unique['make_category'].value_counts(dropna=False))\n"
   ]
  },
  {
   "cell_type": "markdown",
   "metadata": {},
   "source": [
    "# Check year validity"
   ]
  },
  {
   "cell_type": "code",
   "execution_count": 49,
   "metadata": {
    "execution": {
     "iopub.execute_input": "2025-06-24T07:58:18.624350Z",
     "iopub.status.busy": "2025-06-24T07:58:18.624090Z",
     "iopub.status.idle": "2025-06-24T07:58:19.442756Z",
     "shell.execute_reply": "2025-06-24T07:58:19.442144Z",
     "shell.execute_reply.started": "2025-06-24T07:58:18.624328Z"
    },
    "trusted": true
   },
   "outputs": [
    {
     "name": "stdout",
     "output_type": "stream",
     "text": [
      "Invalid year checks: 164 rows\n",
      "Sample invalid rows:\n",
      "     year  sale_year                                 saledate\n",
      "0   2015       2014  Tue Dec 16 2014 12:30:00 GMT-0800 (PST)\n",
      "1   2015       2014  Tue Dec 16 2014 12:30:00 GMT-0800 (PST)\n",
      "5   2015       2014  Tue Dec 30 2014 12:00:00 GMT-0800 (PST)\n",
      "11  2015       2014  Tue Dec 16 2014 12:00:00 GMT-0800 (PST)\n",
      "13  2015       2014  Tue Dec 16 2014 12:30:00 GMT-0800 (PST)\n"
     ]
    }
   ],
   "source": [
    "import pandas as pd\n",
    "\n",
    "# Clean the saledate string by removing the trailing time zone abbreviation (e.g., \"(PDT)\")\n",
    "vehicleSale_unique['saledate_clean'] = vehicleSale_unique['saledate'].str.replace(r'\\s*\\(.*\\)$', '', regex=True)\n",
    "\n",
    "# Now safely parse to datetime with utc=True to avoid future warnings\n",
    "vehicleSale_unique['saledate_clean'] = pd.to_datetime(vehicleSale_unique['saledate_clean'], errors='coerce', utc=True)\n",
    "\n",
    "# Extract year\n",
    "vehicleSale_unique['sale_year'] = vehicleSale_unique['saledate_clean'].dt.year\n",
    "\n",
    "# Compare year vs. sale_year\n",
    "vehicleSale_unique['valid_year'] = vehicleSale_unique['year'] <= vehicleSale_unique['sale_year']\n",
    "\n",
    "# Show invalid rows\n",
    "invalid_years = vehicleSale_unique[~vehicleSale_unique['valid_year'] | vehicleSale_unique['sale_year'].isna()]\n",
    "print(f\"Invalid year checks: {len(invalid_years)} rows\")\n",
    "print(\"Sample invalid rows:\\n\", invalid_years[['year', 'sale_year', 'saledate']].head())\n",
    "\n",
    "# Optional flag\n",
    "vehicleSale_unique.loc[~vehicleSale_unique['valid_year'], 'year_issue'] = 'Year > Sale Year'\n",
    "vehicleSale_unique.loc[vehicleSale_unique['sale_year'].isna(), 'year_issue'] = 'Invalid Sale Date'\n"
   ]
  },
  {
   "cell_type": "markdown",
   "metadata": {},
   "source": [
    "# Drop rows with invalid year"
   ]
  },
  {
   "cell_type": "code",
   "execution_count": 50,
   "metadata": {
    "execution": {
     "iopub.execute_input": "2025-06-24T07:58:19.443676Z",
     "iopub.status.busy": "2025-06-24T07:58:19.443455Z",
     "iopub.status.idle": "2025-06-24T07:58:19.980945Z",
     "shell.execute_reply": "2025-06-24T07:58:19.980289Z",
     "shell.execute_reply.started": "2025-06-24T07:58:19.443655Z"
    },
    "trusted": true
   },
   "outputs": [
    {
     "name": "stdout",
     "output_type": "stream",
     "text": [
      "Rows after dropping invalid years: 465248\n"
     ]
    }
   ],
   "source": [
    "# Drop rows with invalid year or invalid saledate\n",
    "vehicleSale_cleaned = vehicleSale_unique[\n",
    "    (vehicleSale_unique['year'] <= vehicleSale_unique['sale_year']) &\n",
    "    (vehicleSale_unique['sale_year'].notna())\n",
    "].copy()\n",
    "\n",
    "print(f\"Rows after dropping invalid years: {len(vehicleSale_cleaned)}\")\n"
   ]
  },
  {
   "cell_type": "code",
   "execution_count": 51,
   "metadata": {
    "execution": {
     "iopub.execute_input": "2025-06-24T07:58:19.981955Z",
     "iopub.status.busy": "2025-06-24T07:58:19.981708Z",
     "iopub.status.idle": "2025-06-24T07:58:19.986422Z",
     "shell.execute_reply": "2025-06-24T07:58:19.985835Z",
     "shell.execute_reply.started": "2025-06-24T07:58:19.981928Z"
    },
    "trusted": true
   },
   "outputs": [
    {
     "data": {
      "text/plain": [
       "(465248, 24)"
      ]
     },
     "execution_count": 51,
     "metadata": {},
     "output_type": "execute_result"
    }
   ],
   "source": [
    "vehicleSale_cleaned.shape"
   ]
  },
  {
   "cell_type": "markdown",
   "metadata": {},
   "source": [
    "# **Check the final available columns**"
   ]
  },
  {
   "cell_type": "code",
   "execution_count": 52,
   "metadata": {
    "execution": {
     "iopub.execute_input": "2025-06-24T07:58:19.987272Z",
     "iopub.status.busy": "2025-06-24T07:58:19.987060Z",
     "iopub.status.idle": "2025-06-24T07:58:20.004480Z",
     "shell.execute_reply": "2025-06-24T07:58:20.003925Z",
     "shell.execute_reply.started": "2025-06-24T07:58:19.987255Z"
    },
    "trusted": true
   },
   "outputs": [
    {
     "data": {
      "text/plain": [
       "Index(['vin', 'state', 'condition', 'odometer', 'seller', 'mmr',\n",
       "       'sellingprice', 'saledate', 'make', 'model', 'trim', 'body', 'year',\n",
       "       'transmission', 'color', 'interior', 'condition_category',\n",
       "       'state_full_name', 'region', 'make_category', 'saledate_clean',\n",
       "       'sale_year', 'valid_year', 'year_issue'],\n",
       "      dtype='object')"
      ]
     },
     "execution_count": 52,
     "metadata": {},
     "output_type": "execute_result"
    }
   ],
   "source": [
    "vehicleSale_cleaned.shape\n",
    "vehicleSale_cleaned.columns"
   ]
  },
  {
   "cell_type": "code",
   "execution_count": 53,
   "metadata": {
    "execution": {
     "iopub.execute_input": "2025-06-24T07:58:20.005367Z",
     "iopub.status.busy": "2025-06-24T07:58:20.005150Z",
     "iopub.status.idle": "2025-06-24T07:58:20.121507Z",
     "shell.execute_reply": "2025-06-24T07:58:20.120686Z",
     "shell.execute_reply.started": "2025-06-24T07:58:20.005352Z"
    },
    "trusted": true
   },
   "outputs": [],
   "source": [
    "vehicleSale_cleaned = vehicleSale_cleaned.drop(['saledate_clean', 'sale_year', 'valid_year', 'year_issue'], axis=1)"
   ]
  },
  {
   "cell_type": "code",
   "execution_count": 54,
   "metadata": {
    "execution": {
     "iopub.execute_input": "2025-06-24T07:58:20.122716Z",
     "iopub.status.busy": "2025-06-24T07:58:20.122525Z",
     "iopub.status.idle": "2025-06-24T07:58:20.127183Z",
     "shell.execute_reply": "2025-06-24T07:58:20.126492Z",
     "shell.execute_reply.started": "2025-06-24T07:58:20.122701Z"
    },
    "trusted": true
   },
   "outputs": [
    {
     "data": {
      "text/plain": [
       "Index(['vin', 'state', 'condition', 'odometer', 'seller', 'mmr',\n",
       "       'sellingprice', 'saledate', 'make', 'model', 'trim', 'body', 'year',\n",
       "       'transmission', 'color', 'interior', 'condition_category',\n",
       "       'state_full_name', 'region', 'make_category'],\n",
       "      dtype='object')"
      ]
     },
     "execution_count": 54,
     "metadata": {},
     "output_type": "execute_result"
    }
   ],
   "source": [
    "vehicleSale_cleaned.columns"
   ]
  },
  {
   "cell_type": "markdown",
   "metadata": {},
   "source": [
    "# Reorder columns"
   ]
  },
  {
   "cell_type": "code",
   "execution_count": 55,
   "metadata": {
    "execution": {
     "iopub.execute_input": "2025-06-24T07:58:20.128635Z",
     "iopub.status.busy": "2025-06-24T07:58:20.128062Z",
     "iopub.status.idle": "2025-06-24T07:58:20.208540Z",
     "shell.execute_reply": "2025-06-24T07:58:20.208006Z",
     "shell.execute_reply.started": "2025-06-24T07:58:20.128618Z"
    },
    "trusted": true
   },
   "outputs": [],
   "source": [
    "# Example: Reorder columns\n",
    "desired_order = ['year', 'make_category', 'make', 'model', 'trim', 'body', 'transmission', 'color', 'interior','vin', 'state', 'state_full_name', 'region', 'condition', 'condition_category', 'seller', 'odometer',  'mmr', 'sellingprice', 'saledate']\n",
    "vehicleSale_unique_final = vehicleSale_cleaned[desired_order]"
   ]
  },
  {
   "cell_type": "code",
   "execution_count": 56,
   "metadata": {
    "execution": {
     "iopub.execute_input": "2025-06-24T07:58:20.209438Z",
     "iopub.status.busy": "2025-06-24T07:58:20.209189Z",
     "iopub.status.idle": "2025-06-24T07:58:20.214118Z",
     "shell.execute_reply": "2025-06-24T07:58:20.213439Z",
     "shell.execute_reply.started": "2025-06-24T07:58:20.209407Z"
    },
    "trusted": true
   },
   "outputs": [
    {
     "data": {
      "text/plain": [
       "(465248, 20)"
      ]
     },
     "execution_count": 56,
     "metadata": {},
     "output_type": "execute_result"
    }
   ],
   "source": [
    "vehicleSale_unique_final.shape"
   ]
  },
  {
   "cell_type": "code",
   "execution_count": 57,
   "metadata": {
    "execution": {
     "iopub.execute_input": "2025-06-24T07:58:20.215211Z",
     "iopub.status.busy": "2025-06-24T07:58:20.214990Z",
     "iopub.status.idle": "2025-06-24T07:58:20.253673Z",
     "shell.execute_reply": "2025-06-24T07:58:20.253174Z",
     "shell.execute_reply.started": "2025-06-24T07:58:20.215197Z"
    },
    "trusted": true
   },
   "outputs": [
    {
     "data": {
      "text/html": [
       "<div>\n",
       "<style scoped>\n",
       "    .dataframe tbody tr th:only-of-type {\n",
       "        vertical-align: middle;\n",
       "    }\n",
       "\n",
       "    .dataframe tbody tr th {\n",
       "        vertical-align: top;\n",
       "    }\n",
       "\n",
       "    .dataframe thead th {\n",
       "        text-align: right;\n",
       "    }\n",
       "</style>\n",
       "<table border=\"1\" class=\"dataframe\">\n",
       "  <thead>\n",
       "    <tr style=\"text-align: right;\">\n",
       "      <th></th>\n",
       "      <th>year</th>\n",
       "      <th>make_category</th>\n",
       "      <th>make</th>\n",
       "      <th>model</th>\n",
       "      <th>trim</th>\n",
       "      <th>body</th>\n",
       "      <th>transmission</th>\n",
       "      <th>color</th>\n",
       "      <th>interior</th>\n",
       "      <th>vin</th>\n",
       "      <th>state</th>\n",
       "      <th>state_full_name</th>\n",
       "      <th>region</th>\n",
       "      <th>condition</th>\n",
       "      <th>condition_category</th>\n",
       "      <th>seller</th>\n",
       "      <th>odometer</th>\n",
       "      <th>mmr</th>\n",
       "      <th>sellingprice</th>\n",
       "      <th>saledate</th>\n",
       "    </tr>\n",
       "  </thead>\n",
       "  <tbody>\n",
       "    <tr>\n",
       "      <th>449100</th>\n",
       "      <td>2003</td>\n",
       "      <td>Domestic Mainstream</td>\n",
       "      <td>Chevrolet</td>\n",
       "      <td>Impala</td>\n",
       "      <td>Base</td>\n",
       "      <td>Sedan</td>\n",
       "      <td>Automatic</td>\n",
       "      <td>Silver</td>\n",
       "      <td>Tan</td>\n",
       "      <td>2g1wf52e639400789</td>\n",
       "      <td>NV</td>\n",
       "      <td>Nevada</td>\n",
       "      <td>West</td>\n",
       "      <td>32.0</td>\n",
       "      <td>Good</td>\n",
       "      <td>Fairway Chevrolet</td>\n",
       "      <td>49793.0</td>\n",
       "      <td>2325.0</td>\n",
       "      <td>3800.0</td>\n",
       "      <td>Thu May 28 2015 04:50:00 GMT-0700 (PDT)</td>\n",
       "    </tr>\n",
       "    <tr>\n",
       "      <th>89695</th>\n",
       "      <td>2010</td>\n",
       "      <td>Domestic Mainstream</td>\n",
       "      <td>Dodge</td>\n",
       "      <td>Journey</td>\n",
       "      <td>Sxt</td>\n",
       "      <td>Suv</td>\n",
       "      <td>Unknown</td>\n",
       "      <td>Silver</td>\n",
       "      <td>Black</td>\n",
       "      <td>3d4pg5fv9at148603</td>\n",
       "      <td>PA</td>\n",
       "      <td>Pennsylvania</td>\n",
       "      <td>Northeast</td>\n",
       "      <td>27.0</td>\n",
       "      <td>Average</td>\n",
       "      <td>Bob Ruth Ford Inc</td>\n",
       "      <td>68098.0</td>\n",
       "      <td>9550.0</td>\n",
       "      <td>9100.0</td>\n",
       "      <td>Fri Jan 16 2015 01:30:00 GMT-0800 (PST)</td>\n",
       "    </tr>\n",
       "    <tr>\n",
       "      <th>186324</th>\n",
       "      <td>2013</td>\n",
       "      <td>Domestic Mainstream</td>\n",
       "      <td>Chevrolet</td>\n",
       "      <td>Equinox</td>\n",
       "      <td>Ltz</td>\n",
       "      <td>Suv</td>\n",
       "      <td>Unknown</td>\n",
       "      <td>Green</td>\n",
       "      <td>Black</td>\n",
       "      <td>2gnflgek8d6163486</td>\n",
       "      <td>PA</td>\n",
       "      <td>Pennsylvania</td>\n",
       "      <td>Northeast</td>\n",
       "      <td>26.0</td>\n",
       "      <td>Average</td>\n",
       "      <td>The Hertz Corporation</td>\n",
       "      <td>60308.0</td>\n",
       "      <td>17550.0</td>\n",
       "      <td>16900.0</td>\n",
       "      <td>Fri Feb 20 2015 01:00:00 GMT-0800 (PST)</td>\n",
       "    </tr>\n",
       "    <tr>\n",
       "      <th>281294</th>\n",
       "      <td>2014</td>\n",
       "      <td>Domestic Mainstream</td>\n",
       "      <td>Dodge</td>\n",
       "      <td>Grand Caravan</td>\n",
       "      <td>R/T</td>\n",
       "      <td>Minivan</td>\n",
       "      <td>Automatic</td>\n",
       "      <td>White</td>\n",
       "      <td>Black</td>\n",
       "      <td>2c4rdgeg3er431732</td>\n",
       "      <td>PA</td>\n",
       "      <td>Pennsylvania</td>\n",
       "      <td>Northeast</td>\n",
       "      <td>4.0</td>\n",
       "      <td>Poor</td>\n",
       "      <td>Enterprise Holdings/Gdp</td>\n",
       "      <td>15065.0</td>\n",
       "      <td>19200.0</td>\n",
       "      <td>19200.0</td>\n",
       "      <td>Thu Mar 05 2015 01:30:00 GMT-0800 (PST)</td>\n",
       "    </tr>\n",
       "    <tr>\n",
       "      <th>105322</th>\n",
       "      <td>2013</td>\n",
       "      <td>Asian Luxury</td>\n",
       "      <td>Infiniti</td>\n",
       "      <td>G Sedan</td>\n",
       "      <td>G37X</td>\n",
       "      <td>G Sedan</td>\n",
       "      <td>Automatic</td>\n",
       "      <td>Black</td>\n",
       "      <td>Black</td>\n",
       "      <td>jn1cv6ar0dm755861</td>\n",
       "      <td>IL</td>\n",
       "      <td>Illinois</td>\n",
       "      <td>Midwest</td>\n",
       "      <td>43.0</td>\n",
       "      <td>Excellent</td>\n",
       "      <td>Nissan Infiniti Lt</td>\n",
       "      <td>16694.0</td>\n",
       "      <td>23400.0</td>\n",
       "      <td>22100.0</td>\n",
       "      <td>Tue Jan 20 2015 02:00:00 GMT-0800 (PST)</td>\n",
       "    </tr>\n",
       "  </tbody>\n",
       "</table>\n",
       "</div>"
      ],
      "text/plain": [
       "        year        make_category       make          model  trim     body  \\\n",
       "449100  2003  Domestic Mainstream  Chevrolet         Impala  Base    Sedan   \n",
       "89695   2010  Domestic Mainstream      Dodge        Journey   Sxt      Suv   \n",
       "186324  2013  Domestic Mainstream  Chevrolet        Equinox   Ltz      Suv   \n",
       "281294  2014  Domestic Mainstream      Dodge  Grand Caravan   R/T  Minivan   \n",
       "105322  2013         Asian Luxury   Infiniti        G Sedan  G37X  G Sedan   \n",
       "\n",
       "       transmission   color interior                vin state state_full_name  \\\n",
       "449100    Automatic  Silver      Tan  2g1wf52e639400789    NV          Nevada   \n",
       "89695       Unknown  Silver    Black  3d4pg5fv9at148603    PA    Pennsylvania   \n",
       "186324      Unknown   Green    Black  2gnflgek8d6163486    PA    Pennsylvania   \n",
       "281294    Automatic   White    Black  2c4rdgeg3er431732    PA    Pennsylvania   \n",
       "105322    Automatic   Black    Black  jn1cv6ar0dm755861    IL        Illinois   \n",
       "\n",
       "           region  condition condition_category                   seller  \\\n",
       "449100       West       32.0               Good        Fairway Chevrolet   \n",
       "89695   Northeast       27.0            Average        Bob Ruth Ford Inc   \n",
       "186324  Northeast       26.0            Average    The Hertz Corporation   \n",
       "281294  Northeast        4.0               Poor  Enterprise Holdings/Gdp   \n",
       "105322    Midwest       43.0          Excellent       Nissan Infiniti Lt   \n",
       "\n",
       "        odometer      mmr  sellingprice  \\\n",
       "449100   49793.0   2325.0        3800.0   \n",
       "89695    68098.0   9550.0        9100.0   \n",
       "186324   60308.0  17550.0       16900.0   \n",
       "281294   15065.0  19200.0       19200.0   \n",
       "105322   16694.0  23400.0       22100.0   \n",
       "\n",
       "                                       saledate  \n",
       "449100  Thu May 28 2015 04:50:00 GMT-0700 (PDT)  \n",
       "89695   Fri Jan 16 2015 01:30:00 GMT-0800 (PST)  \n",
       "186324  Fri Feb 20 2015 01:00:00 GMT-0800 (PST)  \n",
       "281294  Thu Mar 05 2015 01:30:00 GMT-0800 (PST)  \n",
       "105322  Tue Jan 20 2015 02:00:00 GMT-0800 (PST)  "
      ]
     },
     "execution_count": 57,
     "metadata": {},
     "output_type": "execute_result"
    }
   ],
   "source": [
    "\n",
    "vehicleSale_unique_final.sample(n=5)"
   ]
  },
  {
   "cell_type": "code",
   "execution_count": 58,
   "metadata": {
    "execution": {
     "iopub.execute_input": "2025-06-24T07:58:20.254645Z",
     "iopub.status.busy": "2025-06-24T07:58:20.254304Z",
     "iopub.status.idle": "2025-06-24T07:58:24.833296Z",
     "shell.execute_reply": "2025-06-24T07:58:24.832741Z",
     "shell.execute_reply.started": "2025-06-24T07:58:20.254628Z"
    },
    "trusted": true
   },
   "outputs": [],
   "source": [
    "vehicleSale_unique_final.to_csv('vehicleSale_unique_final_2000-2015.csv', index = False)"
   ]
  },
  {
   "cell_type": "code",
   "execution_count": 59,
   "metadata": {
    "execution": {
     "iopub.execute_input": "2025-06-24T07:58:24.834213Z",
     "iopub.status.busy": "2025-06-24T07:58:24.833967Z",
     "iopub.status.idle": "2025-06-24T07:58:25.133824Z",
     "shell.execute_reply": "2025-06-24T07:58:25.133236Z",
     "shell.execute_reply.started": "2025-06-24T07:58:24.834192Z"
    },
    "trusted": true
   },
   "outputs": [
    {
     "name": "stdout",
     "output_type": "stream",
     "text": [
      "Rows: 465248\n",
      "Columns: ['year', 'make_category', 'make', 'model', 'trim', 'body', 'transmission', 'color', 'interior', 'vin', 'state', 'state_full_name', 'region', 'condition', 'condition_category', 'seller', 'odometer', 'mmr', 'sellingprice', 'saledate']\n",
      "NaN counts:\n",
      " year                  0\n",
      "make_category         0\n",
      "make                  0\n",
      "model                 0\n",
      "trim                  0\n",
      "body                  0\n",
      "transmission          0\n",
      "color                 0\n",
      "interior              0\n",
      "vin                   0\n",
      "state                 0\n",
      "state_full_name       0\n",
      "region                0\n",
      "condition             0\n",
      "condition_category    0\n",
      "seller                0\n",
      "odometer              0\n",
      "mmr                   0\n",
      "sellingprice          0\n",
      "saledate              0\n",
      "dtype: int64\n"
     ]
    }
   ],
   "source": [
    "import pandas as pd\n",
    "# df = pd.read_csv('car_sales_with_make_category.csv')\n",
    "print(f\"Rows: {len(vehicleSale_unique_final)}\")\n",
    "print(\"Columns:\", vehicleSale_unique_final.columns.tolist())\n",
    "print(\"NaN counts:\\n\", vehicleSale_unique_final.isna().sum())"
   ]
  },
  {
   "cell_type": "markdown",
   "metadata": {},
   "source": [
    "# ** LLM for Data Warehouse**"
   ]
  },
  {
   "cell_type": "code",
   "execution_count": null,
   "metadata": {
    "execution": {
     "iopub.execute_input": "2025-06-24T07:58:25.134635Z",
     "iopub.status.busy": "2025-06-24T07:58:25.134469Z",
     "iopub.status.idle": "2025-06-24T07:58:25.139250Z",
     "shell.execute_reply": "2025-06-24T07:58:25.138516Z",
     "shell.execute_reply.started": "2025-06-24T07:58:25.134621Z"
    },
    "trusted": true
   },
   "outputs": [],
   "source": [
    "  %env GROQ_API_KEY = \"your groq_api_key here\""
   ]
  },
  {
   "cell_type": "code",
   "execution_count": 61,
   "metadata": {
    "execution": {
     "iopub.execute_input": "2025-06-24T07:58:25.140339Z",
     "iopub.status.busy": "2025-06-24T07:58:25.140103Z",
     "iopub.status.idle": "2025-06-24T07:58:29.381794Z",
     "shell.execute_reply": "2025-06-24T07:58:29.380897Z",
     "shell.execute_reply.started": "2025-06-24T07:58:25.140319Z"
    },
    "trusted": true
   },
   "outputs": [
    {
     "name": "stdout",
     "output_type": "stream",
     "text": [
      "Collecting groq\n",
      "  Downloading groq-0.28.0-py3-none-any.whl.metadata (15 kB)\n",
      "Requirement already satisfied: anyio<5,>=3.5.0 in /usr/local/lib/python3.11/dist-packages (from groq) (3.7.1)\n",
      "Requirement already satisfied: distro<2,>=1.7.0 in /usr/local/lib/python3.11/dist-packages (from groq) (1.9.0)\n",
      "Requirement already satisfied: httpx<1,>=0.23.0 in /usr/local/lib/python3.11/dist-packages (from groq) (0.28.1)\n",
      "Requirement already satisfied: pydantic<3,>=1.9.0 in /usr/local/lib/python3.11/dist-packages (from groq) (2.11.3)\n",
      "Requirement already satisfied: sniffio in /usr/local/lib/python3.11/dist-packages (from groq) (1.3.1)\n",
      "Requirement already satisfied: typing-extensions<5,>=4.10 in /usr/local/lib/python3.11/dist-packages (from groq) (4.13.1)\n",
      "Requirement already satisfied: idna>=2.8 in /usr/local/lib/python3.11/dist-packages (from anyio<5,>=3.5.0->groq) (3.10)\n",
      "Requirement already satisfied: certifi in /usr/local/lib/python3.11/dist-packages (from httpx<1,>=0.23.0->groq) (2025.1.31)\n",
      "Requirement already satisfied: httpcore==1.* in /usr/local/lib/python3.11/dist-packages (from httpx<1,>=0.23.0->groq) (1.0.7)\n",
      "Requirement already satisfied: h11<0.15,>=0.13 in /usr/local/lib/python3.11/dist-packages (from httpcore==1.*->httpx<1,>=0.23.0->groq) (0.14.0)\n",
      "Requirement already satisfied: annotated-types>=0.6.0 in /usr/local/lib/python3.11/dist-packages (from pydantic<3,>=1.9.0->groq) (0.7.0)\n",
      "Requirement already satisfied: pydantic-core==2.33.1 in /usr/local/lib/python3.11/dist-packages (from pydantic<3,>=1.9.0->groq) (2.33.1)\n",
      "Requirement already satisfied: typing-inspection>=0.4.0 in /usr/local/lib/python3.11/dist-packages (from pydantic<3,>=1.9.0->groq) (0.4.0)\n",
      "Downloading groq-0.28.0-py3-none-any.whl (130 kB)\n",
      "\u001b[2K   \u001b[90m━━━━━━━━━━━━━━━━━━━━━━━━━━━━━━━━━━━━━━━━\u001b[0m \u001b[32m130.2/130.2 kB\u001b[0m \u001b[31m6.0 MB/s\u001b[0m eta \u001b[36m0:00:00\u001b[0m\n",
      "\u001b[?25hInstalling collected packages: groq\n",
      "Successfully installed groq-0.28.0\n",
      "Note: you may need to restart the kernel to use updated packages.\n"
     ]
    }
   ],
   "source": [
    " pip install groq"
   ]
  },
  {
   "cell_type": "code",
   "execution_count": null,
   "metadata": {
    "execution": {
     "iopub.execute_input": "2025-06-24T07:58:29.383719Z",
     "iopub.status.busy": "2025-06-24T07:58:29.383097Z",
     "iopub.status.idle": "2025-06-24T07:58:33.609396Z",
     "shell.execute_reply": "2025-06-24T07:58:33.608774Z",
     "shell.execute_reply.started": "2025-06-24T07:58:29.383695Z"
    },
    "trusted": true
   },
   "outputs": [
    {
     "name": "stdout",
     "output_type": "stream",
     "text": [
      "Large Language Models (LLMs) can be used in data warehousing in several ways:\n",
      "\n",
      "1. **Data Integration**: LLMs can be used to integrate data from multiple sources, including structured and unstructured data, by automatically generating data pipelines, transforming data, and creating data models.\n",
      "2. **Data Quality**: LLMs can be used to improve data quality by detecting and correcting errors, inconsistencies, and anomalies in the data. They can also be used to validate data against business rules and constraints.\n",
      "3. **Data Transformation**: LLMs can be used to transform data from one format to another, such as converting data from a relational database to a data warehouse format.\n",
      "4. **Data Mapping**: LLMs can be used to create data maps, which are graphical representations of the relationships between different data entities.\n",
      "5. **Data Lineage**: LLMs can be used to track data lineage, which is the history of how data has been transformed, processed, and moved through the data warehouse.\n",
      "6. **Automated Data Warehousing**: LLMs can be used to automate the process of building, maintaining, and updating a data warehouse, including tasks such as data loading, data transformation, and data quality checking.\n",
      "7. **Metadata Management**: LLMs can be used to manage metadata, which is data that describes the structure and content of the data in the data warehouse.\n",
      "8. **Data Discovery**: LLMs can be used to help users discover and explore data in the data warehouse, including searching, filtering, and visualizing data.\n",
      "9. **Data Visualization**: LLMs can be used to generate reports, dashboards, and other visualizations to help users understand and analyze the data in the data warehouse.\n",
      "10. **Data Governance**: LLMs can be used to enforce data governance policies, such as data access controls, data masking, and data encryption.\n",
      "\n",
      "Some specific use cases for LLMs in data warehousing include:\n",
      "\n",
      "1. **Automated ETL (Extract, Transform, Load)**: LLMs can be used to automate the ETL process, including extracting data from multiple sources, transforming the data, and loading it into the data warehouse.\n",
      "2. **Data Lake Management**: LLMs can be used to manage data lakes, which are centralized repositories that store raw, unprocessed data.\n",
      "3. **Real-time Data Integration**: LLMs can be used to integrate real-time data from multiple sources, such as social media, IoT devices, and sensors.\n",
      "4. **Predictive Analytics**: LLMs can be used to build predictive models that forecast future trends and behavior based on historical data.\n",
      "\n",
      "The benefits of using LLMs in data warehousing include:\n",
      "\n",
      "1. **Improved Efficiency**: LLMs can automate many tasks, freeing up human resources for more strategic and creative work.\n",
      "2. **Increased Accuracy**: LLMs can reduce errors and improve data quality by automatically detecting and correcting errors.\n",
      "3. **Faster Time-to-Insight**: LLMs can help users quickly discover and analyze data, reducing the time it takes to gain insights and make decisions.\n",
      "4. **Reduced Costs**: LLMs can reduce the cost of data warehousing by automating tasks, minimizing manual labor, and optimizing resource utilization.\n",
      "\n",
      "However, there are also challenges to using LLMs in data warehousing, including:\n",
      "\n",
      "1. **Data Complexity**: LLMs may struggle with complex data sets, such as those with multiple formats, structures, and sources.\n",
      "2. **Data Quality**: LLMs may require high-quality training data to produce accurate results, which can be a challenge in data warehousing environments where data quality is often poor.\n",
      "3. **Explainability**: LLMs can be difficult to interpret and understand, which can make it challenging to explain results and decisions to stakeholders.\n",
      "4. **Security**: LLMs may introduce new security risks, such as data breaches and unauthorized access, which must be mitigated through proper security measures.\n"
     ]
    }
   ],
   "source": [
    "from groq import Groq\n",
    "\n",
    "# Replace with your actual API key\n",
    "api_key = \"your groq_api_key here\"\n",
    "\n",
    "client = Groq(api_key=api_key)\n",
    "\n",
    "def get_response(prompt):\n",
    "  chat_completion = client.chat.completions.create(\n",
    "    messages=[\n",
    "        {\n",
    "            \"role\": \"user\",\n",
    "            \"content\": prompt,\n",
    "        }\n",
    "    ],\n",
    "    model=\"llama-3.3-70b-versatile\",\n",
    "  )\n",
    "\n",
    "  print(chat_completion.choices[0].message.content)\n",
    "\n",
    "prompt = f\"\"\" How LLM can be used for Data warehousing \"\"\"\n",
    "get_response(prompt)"
   ]
  },
  {
   "cell_type": "code",
   "execution_count": 63,
   "metadata": {
    "execution": {
     "iopub.execute_input": "2025-06-24T07:58:33.610461Z",
     "iopub.status.busy": "2025-06-24T07:58:33.610201Z",
     "iopub.status.idle": "2025-06-24T07:58:33.614050Z",
     "shell.execute_reply": "2025-06-24T07:58:33.613381Z",
     "shell.execute_reply.started": "2025-06-24T07:58:33.610437Z"
    },
    "trusted": true
   },
   "outputs": [],
   "source": [
    "import json"
   ]
  },
  {
   "cell_type": "code",
   "execution_count": 66,
   "metadata": {
    "execution": {
     "iopub.execute_input": "2025-06-24T07:58:48.344145Z",
     "iopub.status.busy": "2025-06-24T07:58:48.343840Z",
     "iopub.status.idle": "2025-06-24T07:58:48.369589Z",
     "shell.execute_reply": "2025-06-24T07:58:48.368853Z",
     "shell.execute_reply.started": "2025-06-24T07:58:48.344123Z"
    },
    "trusted": true
   },
   "outputs": [
    {
     "name": "stderr",
     "output_type": "stream",
     "text": [
      "/tmp/ipykernel_31/3858971460.py:7: FutureWarning: DataFrame.applymap has been deprecated. Use DataFrame.map instead.\n",
      "  sample_data = sample_data.applymap(lambda x: x.isoformat() if isinstance(x, pd.Timestamp) else x)\n"
     ]
    }
   ],
   "source": [
    "# Convert datetime columns to strings\n",
    "for col in vehicleSale_unique_final.select_dtypes(include=[\"datetime64\", \"datetime64[ns]\"]):\n",
    "    vehicleSale_unique_final[col] = vehicleSale_unique_final[col].astype(str)\n",
    "\n",
    "# OR: Apply to all Timestamp values in the DataFrame\n",
    "sample_data = vehicleSale_unique_final.sample(n=80, random_state=42).copy()\n",
    "sample_data = sample_data.applymap(lambda x: x.isoformat() if isinstance(x, pd.Timestamp) else x)\n",
    "\n",
    "# Convert to JSON-serializable format\n",
    "sample_data_dict = sample_data.to_dict(orient=\"records\")\n",
    "\n",
    "# Define the prompt\n",
    "prompt = f\"\"\"\n",
    "You are a data analyst using Tableau to create a dynamic dashboard for a vehicle sales dataset.\n",
    "\n",
    "Here is a random sample of the dataset in JSON format:\n",
    "{json.dumps(sample_data_dict, indent=2)}\n",
    "\n",
    "Use the professor's checklist to propose meaningful data visualizations:\n",
    "\n",
    "PHASE 3: DATA VISUALIZATION\n",
    "1. Determine the main story or insight from the dataset.\n",
    "2. Suggest visualizations (sheets/dashboards) using Tableau.\n",
    "3. Enable OLAP-style dynamic interaction: roll-up, drill-down, slice-and-dice, etc.\n",
    "4. Suggest how to structure a short essay to present the project.\n",
    "\n",
    "Based on the data sample and checklist:\n",
    "- What insights or stories could be told?\n",
    "- What charts or dashboards would you recommend?\n",
    "- How can dynamic exploration be implemented?\n",
    "- What key insights can we learn fron the datset?list some trends we can conclude from the dataset?\n",
    "- What key points should be covered in the essay?\n",
    "\"\"\""
   ]
  },
  {
   "cell_type": "code",
   "execution_count": 67,
   "metadata": {
    "execution": {
     "iopub.execute_input": "2025-06-24T07:58:53.305073Z",
     "iopub.status.busy": "2025-06-24T07:58:53.304502Z",
     "iopub.status.idle": "2025-06-24T07:58:58.223782Z",
     "shell.execute_reply": "2025-06-24T07:58:58.223054Z",
     "shell.execute_reply.started": "2025-06-24T07:58:53.305046Z"
    },
    "trusted": true
   },
   "outputs": [
    {
     "name": "stdout",
     "output_type": "stream",
     "text": [
      "**Insights and Stories:**\n",
      "\n",
      "From the provided dataset, several insights and stories can be told:\n",
      "\n",
      "1. **Regional Sales Performance**: The dataset contains information about the region, state, and city where each vehicle was sold. This can help in analyzing the sales performance of different regions and identifying trends.\n",
      "2. **Vehicle Make and Model Performance**: The dataset includes various makes and models of vehicles. This can help in comparing the sales performance of different makes and models, identifying the most popular ones, and understanding the factors that contribute to their success.\n",
      "3. **Price Analysis**: The dataset contains information about the selling price, mmr (market value), and odometer reading of each vehicle. This can help in analyzing the relationship between these factors and identifying trends in pricing.\n",
      "4. **Condition and Category Analysis**: The dataset includes information about the condition and category of each vehicle. This can help in analyzing the sales performance of vehicles in different conditions and categories.\n",
      "5. **Seasonal Trends**: The dataset contains information about the sale date of each vehicle. This can help in identifying seasonal trends in sales and understanding the factors that contribute to these trends.\n",
      "\n",
      "**Recommended Charts and Dashboards:**\n",
      "\n",
      "To visualize the insights and stories mentioned above, the following charts and dashboards can be recommended:\n",
      "\n",
      "1. **Regional Sales Dashboard**:\n",
      "\t* Map view of the United States with sales data by region\n",
      "\t* Bar chart showing the top 5 regions by sales\n",
      "\t* Line chart showing the sales trend over time by region\n",
      "2. **Vehicle Make and Model Dashboard**:\n",
      "\t* Bar chart showing the top 5 makes by sales\n",
      "\t* Bar chart showing the top 5 models by sales\n",
      "\t* Scatter plot showing the relationship between price and odometer reading by make and model\n",
      "3. **Price Analysis Dashboard**:\n",
      "\t* Histogram showing the distribution of selling prices\n",
      "\t* Scatter plot showing the relationship between price and odometer reading\n",
      "\t* Bar chart showing the average price by make and model\n",
      "4. **Condition and Category Dashboard**:\n",
      "\t* Bar chart showing the sales distribution by condition\n",
      "\t* Bar chart showing the sales distribution by category\n",
      "\t* Scatter plot showing the relationship between price and condition\n",
      "5. **Seasonal Trends Dashboard**:\n",
      "\t* Line chart showing the sales trend over time\n",
      "\t* Bar chart showing the sales distribution by month\n",
      "\t* Heatmap showing the sales trend by month and region\n",
      "\n",
      "**Dynamic Exploration:**\n",
      "\n",
      "To enable OLAP-style dynamic interaction, the following features can be implemented:\n",
      "\n",
      "1. **Filters**: Allow users to filter the data by region, make, model, condition, and category.\n",
      "2. **Drill-down**: Allow users to drill down from a high-level view (e.g., region) to a lower-level view (e.g., state or city).\n",
      "3. **Roll-up**: Allow users to roll up from a low-level view (e.g., state or city) to a higher-level view (e.g., region).\n",
      "4. **Slice-and-dice**: Allow users to slice the data by different dimensions (e.g., region, make, model) and dice the data by different measures (e.g., sales, price).\n",
      "5. **Interactions**: Allow users to interact with the visualizations, such as hovering over a data point to see more information or clicking on a bar to filter the data.\n",
      "\n",
      "**Key Insights and Trends:**\n",
      "\n",
      "From the dataset, the following key insights and trends can be concluded:\n",
      "\n",
      "1. **Regional sales performance**: The West region has the highest sales, followed by the South region.\n",
      "2. **Vehicle make and model performance**: The top 5 makes by sales are Toyota, Ford, Chevrolet, Nissan, and Honda.\n",
      "3. **Price analysis**: The average price of vehicles is around $20,000, with a range of $1,000 to $50,000.\n",
      "4. **Condition and category analysis**: The majority of vehicles are in excellent condition, and the most popular category is SUV.\n",
      "5. **Seasonal trends**: Sales are highest in the spring and summer months, with a decline in sales during the winter months.\n",
      "\n",
      "**Essay Structure:**\n",
      "\n",
      "The essay can be structured as follows:\n",
      "\n",
      "1. **Introduction**: Introduce the dataset and the purpose of the analysis.\n",
      "2. **Regional Sales Performance**: Describe the regional sales performance, including the top 5 regions by sales and the sales trend over time.\n",
      "3. **Vehicle Make and Model Performance**: Describe the performance of different makes and models, including the top 5 makes and models by sales.\n",
      "4. **Price Analysis**: Describe the price analysis, including the average price by make and model and the relationship between price and odometer reading.\n",
      "5. **Condition and Category Analysis**: Describe the condition and category analysis, including the sales distribution by condition and category.\n",
      "6. **Seasonal Trends**: Describe the seasonal trends, including the sales trend over time and the sales distribution by month.\n",
      "7. **Conclusion**: Summarize the key insights and trends from the analysis and provide recommendations for future sales strategies.\n"
     ]
    }
   ],
   "source": [
    "get_response(prompt)"
   ]
  },
  {
   "cell_type": "code",
   "execution_count": null,
   "metadata": {
    "trusted": true
   },
   "outputs": [],
   "source": []
  },
  {
   "cell_type": "code",
   "execution_count": null,
   "metadata": {
    "trusted": true
   },
   "outputs": [],
   "source": []
  },
  {
   "cell_type": "markdown",
   "metadata": {},
   "source": []
  }
 ],
 "metadata": {
  "kaggle": {
   "accelerator": "gpu",
   "dataSources": [
    {
     "datasetId": 4476093,
     "sourceId": 7673611,
     "sourceType": "datasetVersion"
    }
   ],
   "dockerImageVersionId": 31012,
   "isGpuEnabled": true,
   "isInternetEnabled": true,
   "language": "python",
   "sourceType": "notebook"
  },
  "kernelspec": {
   "display_name": "Python 3",
   "language": "python",
   "name": "python3"
  },
  "language_info": {
   "codemirror_mode": {
    "name": "ipython",
    "version": 3
   },
   "file_extension": ".py",
   "mimetype": "text/x-python",
   "name": "python",
   "nbconvert_exporter": "python",
   "pygments_lexer": "ipython3",
   "version": "3.11.11"
  }
 },
 "nbformat": 4,
 "nbformat_minor": 4
}
